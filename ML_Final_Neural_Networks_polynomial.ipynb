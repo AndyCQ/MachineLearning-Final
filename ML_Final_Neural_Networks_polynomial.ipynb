{
 "cells": [
  {
   "cell_type": "code",
   "execution_count": null,
   "id": "b0a39953",
   "metadata": {},
   "outputs": [],
   "source": [
    "import numpy as np # linear algebra\n",
    "import pandas as pd # data processing, CSV file I/O (e.g. pd.read_csv)\n",
    "from sklearn.preprocessing import MinMaxScaler\n",
    "from sklearn.preprocessing import StandardScaler\n",
    "from sklearn.preprocessing import PolynomialFeatures\n",
    "from sklearn.neural_network import MLPClassifier"
   ]
  },
  {
   "cell_type": "code",
   "execution_count": 348,
   "id": "3051552b",
   "metadata": {},
   "outputs": [],
   "source": [
    "df = pd.read_csv ('games_data.csv')\n",
    "data = df.to_numpy()\n",
    "X = data[:100 , [1,2,3,4,5,8,9,10,11,12,13]]\n",
    "y = data[:100 , 6]\n",
    "\n",
    "X_val = data[103:123, [1,2,3,4,5,8,9,10,11,12,13]]\n",
    "y_val = data[103:123, 6]"
   ]
  },
  {
   "cell_type": "code",
   "execution_count": 349,
   "id": "7c288f21",
   "metadata": {},
   "outputs": [],
   "source": [
    "for i in range(X.shape[0]):\n",
    "    X[i][0] = len(X[i][0])\n",
    "\n",
    "for i in range(X_val.shape[0]):\n",
    "    X_val[i][0] = len(X_val[i][0])"
   ]
  },
  {
   "cell_type": "code",
   "execution_count": 350,
   "id": "090a3d4f",
   "metadata": {},
   "outputs": [],
   "source": [
    "y_encoded = [] #using Neural Networking, categorize the game to success or not. \n",
    "for i in range(y.shape[0]):\n",
    "    if y[i] >= 2.5:\n",
    "        y_encoded.append(1)\n",
    "    else:\n",
    "        y_encoded.append(0)"
   ]
  },
  {
   "cell_type": "code",
   "execution_count": 351,
   "id": "81257143",
   "metadata": {},
   "outputs": [],
   "source": [
    "scaler = PolynomialFeatures(3)\n",
    "X= scaler.fit_transform(X)\n",
    "X_val = scaler.transform(X_val)"
   ]
  },
  {
   "cell_type": "code",
   "execution_count": 352,
   "id": "4a739045",
   "metadata": {},
   "outputs": [],
   "source": [
    "training_model = MLPClassifier(solver='adam', alpha=0.00001, hidden_layer_sizes=(5, 8), random_state=1)"
   ]
  },
  {
   "cell_type": "code",
   "execution_count": 353,
   "id": "b1d18bc4",
   "metadata": {},
   "outputs": [
    {
     "data": {
      "text/plain": [
       "MLPClassifier(alpha=1e-05, hidden_layer_sizes=(5, 8), random_state=1)"
      ]
     },
     "execution_count": 353,
     "metadata": {},
     "output_type": "execute_result"
    }
   ],
   "source": [
    "training_model.fit(X, y_encoded)"
   ]
  },
  {
   "cell_type": "code",
   "execution_count": 354,
   "id": "0d08f3b8",
   "metadata": {},
   "outputs": [
    {
     "name": "stdout",
     "output_type": "stream",
     "text": [
      "20\n"
     ]
    }
   ],
   "source": [
    "y_val_encoded = [] #using Neural Networking, categorize the game to success or not. \n",
    "for i in range(y_val.shape[0]):\n",
    "    if y[i] >= 2.5:\n",
    "        y_val_encoded.append(1)\n",
    "    else:\n",
    "        y_val_encoded.append(0)\n",
    "print(X_val.shape[0])"
   ]
  },
  {
   "cell_type": "code",
   "execution_count": 355,
   "id": "81fe82ea",
   "metadata": {},
   "outputs": [
    {
     "name": "stdout",
     "output_type": "stream",
     "text": [
      "[1 1 1 1 1 1 1 1 1 1 1 1 1 1 1 1 1 1 1 1]\n"
     ]
    }
   ],
   "source": [
    "result = training_model.predict(X_val)\n",
    "print(result)"
   ]
  },
  {
   "cell_type": "code",
   "execution_count": 356,
   "id": "d6384168",
   "metadata": {},
   "outputs": [
    {
     "name": "stdout",
     "output_type": "stream",
     "text": [
      "0.8\n"
     ]
    }
   ],
   "source": [
    "sum = 0\n",
    "for i in range(X_val.shape[0]):\n",
    "    if result[i] == y_val_encoded[i]:\n",
    "        sum += 1\n",
    "accuracy = sum/X_val.shape[0]\n",
    "print(accuracy)"
   ]
  }
 ],
 "metadata": {
  "kernelspec": {
   "display_name": "Python 3 (ipykernel)",
   "language": "python",
   "name": "python3"
  },
  "language_info": {
   "codemirror_mode": {
    "name": "ipython",
    "version": 3
   },
   "file_extension": ".py",
   "mimetype": "text/x-python",
   "name": "python",
   "nbconvert_exporter": "python",
   "pygments_lexer": "ipython3",
   "version": "3.9.13"
  }
 },
 "nbformat": 4,
 "nbformat_minor": 5
}
