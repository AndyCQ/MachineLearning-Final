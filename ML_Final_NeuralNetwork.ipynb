{
 "cells": [
  {
   "cell_type": "code",
   "execution_count": 52,
   "id": "b0a39953",
   "metadata": {},
   "outputs": [],
   "source": [
    "import numpy as np # linear algebra\n",
    "import pandas as pd # data processing, CSV file I/O (e.g. pd.read_csv)\n",
    "from sklearn.preprocessing import MinMaxScaler\n",
    "from sklearn.preprocessing import StandardScaler\n",
    "from sklearn.neural_network import MLPClassifier\n",
    "\n",
    "\n"
   ]
  },
  {
   "cell_type": "code",
   "execution_count": 53,
   "id": "3051552b",
   "metadata": {},
   "outputs": [],
   "source": [
    "df = pd.read_csv ('games_data.csv')\n",
    "data = df.to_numpy()\n",
    "X = data[:100 , [1,2,3,4,5,8,9,10,11,12,13]]\n",
    "y = data[:100 , 6]\n",
    "\n",
    "X_val = data[103:123, [1,2,3,4,5,8,9,10,11,12,13]]\n",
    "y_val = data[103:123, 6]"
   ]
  },
  {
   "cell_type": "code",
   "execution_count": 54,
   "id": "7c288f21",
   "metadata": {},
   "outputs": [
    {
     "name": "stdout",
     "output_type": "stream",
     "text": [
      "[[18 638.0 2.02 ... 0.0 4.42 11.0]\n",
      " [13 1992.0 1.53 ... 0.0 4.04 6.0]\n",
      " [19 1364.0 1.01 ... 0.0 0.089 6.0]\n",
      " ...\n",
      " [28 1395.0 1.09 ... 1.0 1.83 8.0]\n",
      " [21 4835.0 2.0 ... 1.0 49.46 4.0]\n",
      " [17 594.0 1.89 ... 1.0 8.58 2.0]]\n"
     ]
    }
   ],
   "source": [
    "for i in range(X.shape[0]):\n",
    "    X[i][0] = len(X[i][0])\n",
    "print(X)"
   ]
  },
  {
   "cell_type": "code",
   "execution_count": 55,
   "id": "090a3d4f",
   "metadata": {},
   "outputs": [],
   "source": [
    "y_encoded = [] #using Neural Networking, categorize the game to success or not. \n",
    "for i in range(y.shape[0]):\n",
    "    if y[i] >= 2.5:\n",
    "        y_encoded.append(1)\n",
    "    else:\n",
    "        y_encoded.append(0)"
   ]
  },
  {
   "cell_type": "code",
   "execution_count": 56,
   "id": "81257143",
   "metadata": {},
   "outputs": [
    {
     "name": "stdout",
     "output_type": "stream",
     "text": [
      "[ 2.81836498  0.24996324 -0.49219963 -0.24617965  0.29450384 -0.17136916\n",
      " -0.20514293  3.32870892  0.88640526 -0.33323308  0.68838654]\n"
     ]
    }
   ],
   "source": [
    "scaler = StandardScaler()\n",
    "X= scaler.fit_transform(X)\n",
    "print(X[94,:])"
   ]
  },
  {
   "cell_type": "code",
   "execution_count": 57,
   "id": "4a739045",
   "metadata": {},
   "outputs": [],
   "source": [
    "training_model = MLPClassifier(solver='lbfgs', alpha=0.0001, hidden_layer_sizes=(5, 5), random_state=1)"
   ]
  },
  {
   "cell_type": "code",
   "execution_count": 58,
   "id": "b1d18bc4",
   "metadata": {},
   "outputs": [
    {
     "data": {
      "text/plain": [
       "MLPClassifier(hidden_layer_sizes=(5, 5), random_state=1, solver='lbfgs')"
      ]
     },
     "execution_count": 58,
     "metadata": {},
     "output_type": "execute_result"
    }
   ],
   "source": [
    "training_model.fit(X, y_encoded)\n"
   ]
  },
  {
   "cell_type": "code",
   "execution_count": 59,
   "id": "f45cfb0a",
   "metadata": {},
   "outputs": [
    {
     "name": "stdout",
     "output_type": "stream",
     "text": [
      "[[40 2382.0 1.76 42126.0 17.3 15.0 20.0 19.99 1.0 47.3 6.0]\n",
      " [46 1352.0 1.06 29593.0 81.4 8.0 10.0 4.99 0.0 3.9 7.0]\n",
      " [24 2999.0 2.27 8141.0 10.5 80.0 100.0 29.99 0.0 7.7 8.0]\n",
      " [13 4515.0 2.33 145216.0 2.0 35.0 40.0 39.99 1.0 45.5 3.0]\n",
      " [13 3972.0 2.14 133500.0 1.7 50.0 60.0 7.99 1.0 31.6 5.0]\n",
      " [13 2985.0 2.29 59841.0 8.5 35.0 40.0 39.99 1.0 34.0 3.0]\n",
      " [18 2936.0 2.22 6640.0 12.5 60.0 80.0 9.99 0.0 0.153 8.0]\n",
      " [12 1734.0 1.12 900.0 38.2 2.0 3.0 4.99 0.0 1.2 3.0]\n",
      " [10 3993.0 2.99 21750.0 5.4 20.0 25.0 29.99 0.0 0.2 7.0]\n",
      " [17 2894.0 2.24 84884.0 11.3 20.0 25.0 29.99 1.0 49.0 3.0]\n",
      " [10 1395.0 1.03 277.0 90.6 0.0 1.0 7.99 0.0 0.276 5.0]\n",
      " [10 287.0 1.01 258.0 98.1 0.0 1.0 1.24 0.0 1.24 7.0]\n",
      " [21 2831.0 1.72 37843.0 9.2 15.0 20.0 19.99 0.0 60.33 5.0]\n",
      " [20 1345.0 1.02 851.0 93.9 0.0 1.0 0.49 0.0 0.109 3.0]\n",
      " [21 1325.0 1.05 2644.0 88.0 0.0 1.0 12.99 0.0 0.665 6.0]\n",
      " [14 1399.0 1.06 1583.0 87.6 2.0 3.0 14.99 0.0 1.3 7.0]\n",
      " [18 1373.0 1.05 1963.0 86.3 1.0 2.0 15.99 0.0 4.3 3.0]\n",
      " [25 2342.0 1.77 8290.0 18.3 6.0 8.0 19.99 1.0 5.13 6.0]\n",
      " [9 1331.0 1.01 1932.0 98.3 0.0 1.0 4.99 0.0 0.399 6.0]\n",
      " [12 358.0 1.19 272.0 55.9 0.0 1.0 1.99 0.0 0.422 2.0]]\n"
     ]
    }
   ],
   "source": [
    "for i in range(X_val.shape[0]):\n",
    "    X_val[i][0] = len(X_val[i][0])\n",
    "print(X_val)"
   ]
  },
  {
   "cell_type": "code",
   "execution_count": 60,
   "id": "0d08f3b8",
   "metadata": {},
   "outputs": [],
   "source": [
    "y_val_encoded = [] #using Neural Networking, categorize the game to success or not. \n",
    "for i in range(y_val.shape[0]):\n",
    "    if y[i] >= 2.5:\n",
    "        y_val_encoded.append(1)\n",
    "    else:\n",
    "        y_val_encoded.append(0)"
   ]
  },
  {
   "cell_type": "code",
   "execution_count": 61,
   "id": "81fe82ea",
   "metadata": {},
   "outputs": [],
   "source": [
    "result = training_model.predict(X_val)"
   ]
  },
  {
   "cell_type": "code",
   "execution_count": 62,
   "id": "d6384168",
   "metadata": {},
   "outputs": [
    {
     "name": "stdout",
     "output_type": "stream",
     "text": [
      "0.75\n"
     ]
    }
   ],
   "source": [
    "sum = 0\n",
    "for i in range(X_val.shape[0]):\n",
    "    if result[i] == y_val_encoded[i]:\n",
    "        sum += 1\n",
    "accuracy = sum/X_val.shape[0]\n",
    "print(accuracy)"
   ]
  },
  {
   "cell_type": "code",
   "execution_count": null,
   "id": "29327ebe",
   "metadata": {},
   "outputs": [],
   "source": []
  }
 ],
 "metadata": {
  "kernelspec": {
   "display_name": "Python 3 (ipykernel)",
   "language": "python",
   "name": "python3"
  },
  "language_info": {
   "codemirror_mode": {
    "name": "ipython",
    "version": 3
   },
   "file_extension": ".py",
   "mimetype": "text/x-python",
   "name": "python",
   "nbconvert_exporter": "python",
   "pygments_lexer": "ipython3",
   "version": "3.9.13"
  }
 },
 "nbformat": 4,
 "nbformat_minor": 5
}
