{
 "cells": [
  {
   "cell_type": "code",
   "execution_count": 2,
   "id": "b0a39953",
   "metadata": {},
   "outputs": [],
   "source": [
    "import numpy as np # linear algebra\n",
    "import pandas as pd # data processing, CSV file I/O (e.g. pd.read_csv)\n",
    "from sklearn.preprocessing import MinMaxScaler\n",
    "\n"
   ]
  },
  {
   "cell_type": "code",
   "execution_count": 3,
   "id": "3051552b",
   "metadata": {},
   "outputs": [
    {
     "name": "stdout",
     "output_type": "stream",
     "text": [
      "['A Boy and His Blob' 638 2.02 2194 16.5 15 20 9.99 0.0 4.42 11.0]\n",
      "[['A Boy and His Blob' 638 2.02 ... 0.0 4.42 11.0]\n",
      " ['A Hat in Time' 1992 1.53 ... 0.0 4.04 6.0]\n",
      " ['A Hero and a Garden' 1364 1.01 ... 0.0 0.089 6.0]\n",
      " ...\n",
      " ['BATMAN – The Telltale Series' 1395 1.09 ... 1.0 1.83 8.0]\n",
      " ['Batman: Arkham Knight' 4835 2.0 ... 1.0 49.46 4.0]\n",
      " ['Batman: Arkham VR' 594 1.89 ... 1.0 8.58 2.0]]\n"
     ]
    }
   ],
   "source": [
    "df = pd.read_csv ('games_data.csv')\n",
    "data = df.to_numpy()\n",
    "X = data[:100 , [1,2,3,4,5,8,9,10,11,12,13]]\n",
    "y = data[:100 , 6]\n",
    "print(X[0])\n",
    "print(X)"
   ]
  },
  {
   "cell_type": "code",
   "execution_count": 4,
   "id": "7c288f21",
   "metadata": {},
   "outputs": [
    {
     "name": "stdout",
     "output_type": "stream",
     "text": [
      "[[18 638 2.02 ... 0.0 4.42 11.0]\n",
      " [13 1992 1.53 ... 0.0 4.04 6.0]\n",
      " [19 1364 1.01 ... 0.0 0.089 6.0]\n",
      " ...\n",
      " [28 1395 1.09 ... 1.0 1.83 8.0]\n",
      " [21 4835 2.0 ... 1.0 49.46 4.0]\n",
      " [17 594 1.89 ... 1.0 8.58 2.0]]\n"
     ]
    }
   ],
   "source": [
    "for i in range(X.shape[0]):\n",
    "    X[i][0] = len(X[i][0])\n",
    "print(X)"
   ]
  },
  {
   "cell_type": "code",
   "execution_count": 5,
   "id": "81257143",
   "metadata": {},
   "outputs": [
    {
     "name": "stdout",
     "output_type": "stream",
     "text": [
      "[[2.50000000e-01 7.25789135e-02 5.10101010e-01 ... 0.00000000e+00\n",
      "  4.28236119e-02 4.76190476e-01]\n",
      " [1.60714286e-01 3.63324028e-01 2.62626263e-01 ... 0.00000000e+00\n",
      "  3.91226857e-02 2.38095238e-01]\n",
      " [2.67857143e-01 2.28473266e-01 0.00000000e+00 ... 0.00000000e+00\n",
      "  6.42792446e-04 2.38095238e-01]\n",
      " ...\n",
      " [4.28571429e-01 2.35129912e-01 4.04040404e-02 ... 1.00000000e+00\n",
      "  1.75988780e-02 3.33333333e-01]\n",
      " [3.03571429e-01 9.73802877e-01 5.00000000e-01 ... 1.00000000e+00\n",
      "  4.81480760e-01 1.42857143e-01]\n",
      " [2.32142857e-01 6.31307709e-02 4.44444444e-01 ... 1.00000000e+00\n",
      "  8.33390146e-02 4.76190476e-02]]\n"
     ]
    }
   ],
   "source": [
    "scaler = MinMaxScaler()\n",
    "scaler.fit(X)\n",
    "X= scaler.transform(X)b\n",
    "print(X)"
   ]
  },
  {
   "cell_type": "code",
   "execution_count": 6,
   "id": "4a739045",
   "metadata": {},
   "outputs": [
    {
     "name": "stdout",
     "output_type": "stream",
     "text": [
      "here\n"
     ]
    }
   ],
   "source": []
  },
  {
   "cell_type": "code",
   "execution_count": null,
   "id": "86e0b032",
   "metadata": {},
   "outputs": [],
   "source": []
  }
 ],
 "metadata": {
  "kernelspec": {
   "display_name": "Python 3 (ipykernel)",
   "language": "python",
   "name": "python3"
  },
  "language_info": {
   "codemirror_mode": {
    "name": "ipython",
    "version": 3
   },
   "file_extension": ".py",
   "mimetype": "text/x-python",
   "name": "python",
   "nbconvert_exporter": "python",
   "pygments_lexer": "ipython3",
   "version": "3.9.13"
  }
 },
 "nbformat": 4,
 "nbformat_minor": 5
}
