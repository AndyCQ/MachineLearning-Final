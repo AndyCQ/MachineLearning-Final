{
 "cells": [
  {
   "cell_type": "code",
   "execution_count": 24,
   "id": "a4c1511b",
   "metadata": {},
   "outputs": [],
   "source": [
    "import numpy as np # linear algebra\n",
    "import pandas as pd # data processing, CSV file I/O (e.g. pd.read_csv)\n",
    "from sklearn.preprocessing import MinMaxScaler\n",
    "\n",
    "from sklearn.preprocessing import StandardScaler # Scaling is suggested when running a gradient descent algorithm\n",
    "\n",
    "import matplotlib # a plotting library\n",
    "from matplotlib import pyplot as plt\n",
    "from sklearn.model_selection import train_test_split\n",
    "from sklearn.preprocessing import PolynomialFeatures\n",
    "%matplotlib inline\n"
   ]
  },
  {
   "cell_type": "code",
   "execution_count": 265,
   "id": "452844d5",
   "metadata": {},
   "outputs": [
    {
     "name": "stdout",
     "output_type": "stream",
     "text": [
      "(100, 11)\n",
      "(100,)\n"
     ]
    }
   ],
   "source": [
    "df = pd.read_csv ('games_data.csv')\n",
    "data = df.to_numpy()\n",
    "X = data[:100 , [1,2,3,4,5,8,9,10,11,12,13]]\n",
    "y = data[:100 , 6]\n",
    "print(X.shape)\n",
    "print(y.shape)"
   ]
  },
  {
   "cell_type": "code",
   "execution_count": 266,
   "id": "90e821c0",
   "metadata": {},
   "outputs": [
    {
     "name": "stdout",
     "output_type": "stream",
     "text": [
      "[[18 638.0 2.02 ... 0.0 4.42 11.0]\n",
      " [13 1992.0 1.53 ... 0.0 4.04 6.0]\n",
      " [19 1364.0 1.01 ... 0.0 0.089 6.0]\n",
      " ...\n",
      " [28 1395.0 1.09 ... 1.0 1.83 8.0]\n",
      " [21 4835.0 2.0 ... 1.0 49.46 4.0]\n",
      " [17 594.0 1.89 ... 1.0 8.58 2.0]]\n"
     ]
    }
   ],
   "source": [
    "for i in range(X.shape[0]):\n",
    "    X[i][0] = len(X[i][0])\n",
    "print(X)"
   ]
  },
  {
   "cell_type": "code",
   "execution_count": 267,
   "id": "e0527089",
   "metadata": {},
   "outputs": [
    {
     "name": "stdout",
     "output_type": "stream",
     "text": [
      "[[-0.55201331 -0.69094953  1.09554111 ... -1.12815215 -0.27663263\n",
      "   1.26930346]\n",
      " [-1.00746984  0.51093338  0.07186616 ... -1.12815215 -0.29927281\n",
      "  -0.18298883]\n",
      " [-0.460922   -0.04651305 -1.01448277 ... -1.12815215 -0.53467112\n",
      "  -0.18298883]\n",
      " ...\n",
      " [ 0.35889974 -0.01899579 -0.84735217 ...  0.88640526 -0.43094334\n",
      "   0.39792809]\n",
      " [-0.27873939  3.03453243  1.05375846 ...  0.88640526  2.40682465\n",
      "  -0.76390574]\n",
      " [-0.64310461 -0.73000628  0.82395388 ...  0.88640526 -0.02878222\n",
      "  -1.34482266]]\n"
     ]
    }
   ],
   "source": [
    "#Linear Regression with normalization \n",
    "scaler = StandardScaler()\n",
    "scaler.fit(X)\n",
    "X_scaled = scaler.transform(X)\n",
    "print(X_scaled)\n"
   ]
  },
  {
   "cell_type": "code",
   "execution_count": 190,
   "id": "4211e905",
   "metadata": {},
   "outputs": [
    {
     "name": "stdout",
     "output_type": "stream",
     "text": [
      "shape of y_2d:  (100, 1)\n"
     ]
    }
   ],
   "source": [
    "# Reshape y into a rank 2 matrix y_2d(<np.ndarray>)\n",
    "y_2d = y.reshape(y.shape[0],1)\n",
    "print(\"shape of y_2d: \", y_2d.shape)"
   ]
  },
  {
   "cell_type": "code",
   "execution_count": 191,
   "id": "175d2cde",
   "metadata": {},
   "outputs": [
    {
     "name": "stdout",
     "output_type": "stream",
     "text": [
      "100\n"
     ]
    }
   ],
   "source": [
    "N = X_scaled.shape[0]\n",
    "print(N)"
   ]
  },
  {
   "cell_type": "code",
   "execution_count": 192,
   "id": "dab27ad1",
   "metadata": {},
   "outputs": [
    {
     "name": "stdout",
     "output_type": "stream",
     "text": [
      "shape of X_1:  (100, 12)\n"
     ]
    }
   ],
   "source": [
    "ones = np.ones((N,1),dtype=np.int16) \n",
    "X_1 =  np.hstack((ones,X_scaled))\n",
    "print(\"shape of X_1: \", X_1.shape)"
   ]
  },
  {
   "cell_type": "code",
   "execution_count": null,
   "id": "b028ea68",
   "metadata": {
    "scrolled": true
   },
   "outputs": [],
   "source": []
  },
  {
   "cell_type": "code",
   "execution_count": 193,
   "id": "3ca25e91",
   "metadata": {},
   "outputs": [],
   "source": [
    "def compute_cost(X_1, y, w, N):\n",
    "    # Write your code in place of ellipsis. Cost can be calculated using a single line of code.\n",
    "    # Remember w is a vector here.\n",
    "    cost= ((1/(2*N))*((X_1.dot(w)) - y)**2).sum()\n",
    "    return cost"
   ]
  },
  {
   "cell_type": "code",
   "execution_count": 194,
   "id": "ed888cd2",
   "metadata": {},
   "outputs": [
    {
     "name": "stdout",
     "output_type": "stream",
     "text": [
      "cost_verify:  5.55415\n",
      "3.2390000000000008\n"
     ]
    }
   ],
   "source": [
    "w_testcase=np.zeros((12,1))\n",
    "cost_verify= compute_cost(X_1, y_2d, w_testcase, N)\n",
    "print(\"cost_verify: \", cost_verify)\n",
    "\n",
    "mean_rating = y.sum()/y.shape[0] \n",
    "print(mean_rating)"
   ]
  },
  {
   "cell_type": "code",
   "execution_count": 195,
   "id": "b3f8e20d",
   "metadata": {},
   "outputs": [],
   "source": [
    "def gradient_descent(X_1 , y , learning_rate , w , n , num_iters):\n",
    "    # In place of ellipsis, write the updated value of w0 in temp0 and of w1 in temp1\n",
    "    # Finish the gradient descent function\n",
    "    for i in range(num_iters):\n",
    "        # derivative vector is given by : X_train.Transpose *  (( X_train * w)- y ) \n",
    "        # You may add your own variables\n",
    "        \n",
    "        wT = w.T\n",
    "        w = w - (learning_rate/n)*(X_1.T.dot((X_1.dot(w)-y)))\n",
    "        if (i%100==0):\n",
    "            # In place of ellipsis, call the cost you just coded above\n",
    "            cost = compute_cost(X_1,y,w,N)\n",
    "\n",
    "            # You can uncomment print statements below to see how cost changes, \n",
    "            # but please make sure you put prints in comments before submission\n",
    "            #print(\"Cost\")\n",
    "            #print(cost)\n",
    "            \n",
    "    return w"
   ]
  },
  {
   "cell_type": "code",
   "execution_count": 196,
   "id": "5b095e42",
   "metadata": {},
   "outputs": [
    {
     "name": "stdout",
     "output_type": "stream",
     "text": [
      "g[0]:  [2.8007776274895084]\n"
     ]
    }
   ],
   "source": [
    "w_testcase = np.zeros((12,1))\n",
    "g = gradient_descent(X_1, y_2d, 0.01, w_testcase, N, 10000)\n",
    "print(\"g[0]: \", g[0])"
   ]
  },
  {
   "cell_type": "code",
   "execution_count": 197,
   "id": "62c2542e",
   "metadata": {},
   "outputs": [],
   "source": [
    "def multiple_linear_reg_model_gda(X_1 , y , n , learning_rate , num_iters):\n",
    "\n",
    "    #initialize the values of parameter vector w. It should be a column vector of zeros of dimension(d+1,1)\n",
    "    w = np.zeros((X_1.shape[1],1))\n",
    "\n",
    "    #calculate the initial cost by calling the function you coded above.\n",
    "    initial_cost= compute_cost(X_1,y,w,n)\n",
    "#     print(\"Initial Cost\")\n",
    "#     print(initial_cost)\n",
    "\n",
    "    #calculate the optimized value of gradients by calling the gradient_descent function coded above \n",
    "    w = gradient_descent(X_1, y, learning_rate, w, n, num_iters)\n",
    "    \n",
    "    # Calculate the cost with the optimized value of w0 and w1 by calling the cost function.    \n",
    "    final_cost = compute_cost(X_1, y, w, n)\n",
    "    #print(\"Final Cost\")\n",
    "    #print(final_cost)\n",
    "    \n",
    "    return w, initial_cost, final_cost"
   ]
  },
  {
   "cell_type": "code",
   "execution_count": 200,
   "id": "e07b4b89",
   "metadata": {},
   "outputs": [
    {
     "name": "stdout",
     "output_type": "stream",
     "text": [
      "w:  [[3.1104173972812363]\n",
      " [-0.3517853821842934]\n",
      " [0.5729627951366187]\n",
      " [-0.2272996881608196]\n",
      " [0.08787872879310686]\n",
      " [-0.9030204603384391]\n",
      " [-0.2312187921805723]\n",
      " [-0.24634935068726183]\n",
      " [1.0680816997743434]\n",
      " [0.3466077761900843]\n",
      " [0.43413348676576224]\n",
      " [0.3606304660310838]] \n",
      "initial cost:  5.55415 \n",
      "final cost:  0.16141147375977938\n"
     ]
    }
   ],
   "source": [
    "learning_rate = .002\n",
    "num_iters = 100000\n",
    "results = multiple_linear_reg_model_gda(X_1,y_2d, N, learning_rate, num_iters)\n",
    "\n",
    "w = results[0]\n",
    "print(\"w: \", w, \"\\ninitial cost: \", results[1], \"\\nfinal cost: \", results[2])"
   ]
  },
  {
   "cell_type": "code",
   "execution_count": 241,
   "id": "4121f016",
   "metadata": {},
   "outputs": [],
   "source": [
    "def predict(x, w_opt): \n",
    "    ones = np.ones((x.shape[0],1),dtype=np.int16) \n",
    "    x_aug =  np.hstack((ones,x))\n",
    "    \n",
    "    predicted_y = w_opt.T.dot(x_aug.T)\n",
    "    \n",
    "    return predicted_y"
   ]
  },
  {
   "cell_type": "code",
   "execution_count": 242,
   "id": "80feb8f4",
   "metadata": {},
   "outputs": [
    {
     "name": "stdout",
     "output_type": "stream",
     "text": [
      "[[3.1150145692414735 3.431765634174849 2.416100967151251\n",
      "  3.1189349119387746 3.6524716361269 2.4633013655461666 3.770142124117465\n",
      "  2.4745843369219553 3.054003103833082 3.1841110114619973\n",
      "  2.6545544561499854 3.2750004700893065 2.876276280249143\n",
      "  2.848107411208519 2.9074260820463276 2.938702710342799\n",
      "  3.1629693787094686 2.879166153764242 2.7417218858890564\n",
      "  2.9229405658118104 3.002260833847477 2.895144464741673\n",
      "  3.155098724142059 3.0296919567750824 2.989725239867541\n",
      "  2.9000017642963316 3.0059019971626655 2.8224550277026244\n",
      "  2.894710396089789 2.8781848827830188 2.887534160387119\n",
      "  2.8637250317415432 2.921049070149787 2.8688319210355577\n",
      "  2.470062725355852 3.291276010175541 2.549434084782437 2.368328270087275\n",
      "  2.883104878751308 2.658465889336133 3.0040636167255927\n",
      "  3.1715881935175663 3.0775061734601232 2.71278517561023\n",
      "  3.296775609945772 3.829492437521235 3.4127822035720095\n",
      "  3.3588686795633804 2.5636342473579696 4.205663152599993\n",
      "  3.7990654246985933 2.513604139372449 3.796760766216448\n",
      "  3.054854799539222 2.8856667811172665 3.9506692499370706\n",
      "  3.0781945736069747 3.225639111768987 3.377622514513382\n",
      "  3.5569042243683953 2.2803151036776343 3.4273902839465187\n",
      "  3.7063496567289116 3.439168671943052 2.84484270777709 3.343482627073736\n",
      "  3.419370284777163 3.9094479941297435 2.942374873029213\n",
      "  2.875222904176953 2.5502744113010754 3.3139157235082037\n",
      "  3.239488795073118 3.4641151236740884 3.6782267561009014\n",
      "  4.170828083823664 4.196432771206825 3.636178795729638 4.643685539461285\n",
      "  4.602682728911426 3.646083734591057 4.1183242724519316\n",
      "  4.083652117899239 4.249986617171381 3.6590846452757124\n",
      "  3.991962469528731 3.761776763235515 2.2516414284444926\n",
      "  3.2745095165150055 3.345568629661183 2.4204886186940064\n",
      "  3.4745510763738445 2.739825637551801 3.987129779051182\n",
      "  3.973606157833414 2.968239823590786 3.883016349217342 3.173477970396518\n",
      "  4.349169960277237 3.5525235200573446]]\n",
      "[3.2 4.2 5.0 3.3 4.3 2.7 4.0 2.1 2.5 3.3 3.4 3.7 3.2 3.8 2.5 2.7 2.2 2.2\n",
      " 2.2 3.1 3.4 3.0 3.5 2.9 3.0 2.9 4.1 2.9 2.9 3.0 2.6 2.6 2.7 2.9 2.4 3.7\n",
      " 2.0 2.0 2.5 2.3 3.1 3.0 3.8 3.3 3.1 3.3 4.4 3.6 1.8 4.1 3.9 3.5 3.3 3.3\n",
      " 3.1 3.0 1.8 2.2 3.7 3.9 1.8 3.2 3.6 4.3 2.0 3.9 3.1 3.4 2.4 2.5 2.4 3.2\n",
      " 3.2 3.4 4.4 3.7 4.2 3.4 4.4 4.4 3.9 4.1 3.5 4.2 4.2 4.0 4.7 1.5 3.5 3.9\n",
      " 1.3 3.8 1.6 4.2 3.6 3.0 4.0 3.8 4.2 3.9]\n"
     ]
    }
   ],
   "source": [
    "y_predict = predict(X_scaled,w)\n",
    "print(y_predict)\n",
    "print(y)"
   ]
  },
  {
   "cell_type": "code",
   "execution_count": 203,
   "id": "491f2777",
   "metadata": {},
   "outputs": [
    {
     "name": "stdout",
     "output_type": "stream",
     "text": [
      "(1, 100)\n"
     ]
    }
   ],
   "source": [
    "print(y_predict.shape)"
   ]
  },
  {
   "cell_type": "code",
   "execution_count": 204,
   "id": "829721fa",
   "metadata": {
    "scrolled": true
   },
   "outputs": [
    {
     "name": "stdout",
     "output_type": "stream",
     "text": [
      "323.68283638286596\n",
      "323.9000000000001\n",
      "3.2390000000000008\n",
      "RSS = 32.282295\n",
      "TSS = 61.717900\n",
      "R^2 = 0.476938\n"
     ]
    }
   ],
   "source": [
    "print(y_predict.sum())\n",
    "print(y.sum())\n",
    "print(np.mean(y))\n",
    "RSS = ((y_predict - y)**2).sum()\n",
    "TSS = ((np.mean(y)- y)**2).sum()\n",
    "R2 = 1- (RSS / TSS)\n",
    "print(\"RSS = {0:f}\".format(RSS))\n",
    "print(\"TSS = {0:f}\".format(TSS))\n",
    "print(\"R^2 = {0:f}\".format(R2))"
   ]
  },
  {
   "cell_type": "code",
   "execution_count": 268,
   "id": "5c9cbf19",
   "metadata": {},
   "outputs": [],
   "source": [
    "#Polynomial Regression with normalization of features\n",
    "y_2d = y.reshape(y.shape[0],1)\n",
    "X_val = data[103:123 , [1,2,3,4,5,8,9,10,11,12,13]]\n",
    "y_val = data[103:123 , 6]"
   ]
  },
  {
   "cell_type": "code",
   "execution_count": 87,
   "id": "0b076dc8",
   "metadata": {},
   "outputs": [],
   "source": []
  },
  {
   "cell_type": "code",
   "execution_count": 269,
   "id": "43f2b906",
   "metadata": {},
   "outputs": [],
   "source": [
    "for i in range(X_val.shape[0]):\n",
    "    X_val[i][0] = len(X_val[i][0])\n"
   ]
  },
  {
   "cell_type": "code",
   "execution_count": 270,
   "id": "acdf402c",
   "metadata": {},
   "outputs": [
    {
     "name": "stdout",
     "output_type": "stream",
     "text": [
      "[[40 2382.0 1.76 42126.0 17.3 15.0 20.0 19.99 1.0 47.3 6.0]\n",
      " [46 1352.0 1.06 29593.0 81.4 8.0 10.0 4.99 0.0 3.9 7.0]\n",
      " [24 2999.0 2.27 8141.0 10.5 80.0 100.0 29.99 0.0 7.7 8.0]\n",
      " [13 4515.0 2.33 145216.0 2.0 35.0 40.0 39.99 1.0 45.5 3.0]\n",
      " [13 3972.0 2.14 133500.0 1.7 50.0 60.0 7.99 1.0 31.6 5.0]\n",
      " [13 2985.0 2.29 59841.0 8.5 35.0 40.0 39.99 1.0 34.0 3.0]\n",
      " [18 2936.0 2.22 6640.0 12.5 60.0 80.0 9.99 0.0 0.153 8.0]\n",
      " [12 1734.0 1.12 900.0 38.2 2.0 3.0 4.99 0.0 1.2 3.0]\n",
      " [10 3993.0 2.99 21750.0 5.4 20.0 25.0 29.99 0.0 0.2 7.0]\n",
      " [17 2894.0 2.24 84884.0 11.3 20.0 25.0 29.99 1.0 49.0 3.0]\n",
      " [10 1395.0 1.03 277.0 90.6 0.0 1.0 7.99 0.0 0.276 5.0]\n",
      " [10 287.0 1.01 258.0 98.1 0.0 1.0 1.24 0.0 1.24 7.0]\n",
      " [21 2831.0 1.72 37843.0 9.2 15.0 20.0 19.99 0.0 60.33 5.0]\n",
      " [20 1345.0 1.02 851.0 93.9 0.0 1.0 0.49 0.0 0.109 3.0]\n",
      " [21 1325.0 1.05 2644.0 88.0 0.0 1.0 12.99 0.0 0.665 6.0]\n",
      " [14 1399.0 1.06 1583.0 87.6 2.0 3.0 14.99 0.0 1.3 7.0]\n",
      " [18 1373.0 1.05 1963.0 86.3 1.0 2.0 15.99 0.0 4.3 3.0]\n",
      " [25 2342.0 1.77 8290.0 18.3 6.0 8.0 19.99 1.0 5.13 6.0]\n",
      " [9 1331.0 1.01 1932.0 98.3 0.0 1.0 4.99 0.0 0.399 6.0]\n",
      " [12 358.0 1.19 272.0 55.9 0.0 1.0 1.99 0.0 0.422 2.0]]\n",
      "[4.5 4.0 3.9 4.2 3.9 3.6 3.2 2.9 4.7 3.9 3.0 3.0 4.2 3.1 2.1 2.7 3.4 4.1\n",
      " 1.6 1.8]\n"
     ]
    }
   ],
   "source": [
    "print(X_val)\n",
    "print(y_val)\n",
    "scaler = StandardScaler()\n",
    "scaler.fit(X_val)\n",
    "X_val_scaled = scaler.transform(X_val)"
   ]
  },
  {
   "cell_type": "code",
   "execution_count": 271,
   "id": "6e3543a5",
   "metadata": {},
   "outputs": [
    {
     "name": "stdout",
     "output_type": "stream",
     "text": [
      "[[ 2.28092734  0.16856716  0.23459655  0.29475929 -0.73768572 -0.10838719\n",
      "  -0.07501483  0.33288366  1.52752523  1.59997883  0.45256964]\n",
      " [ 2.9115985  -0.72364342 -0.90977688  0.00389429  0.92437595 -0.41806486\n",
      "  -0.43222832 -0.89622525 -0.65465367 -0.53242222  0.98500451]\n",
      " [ 0.5991376   0.70302729  1.06835434 -0.49396225 -0.91400427  2.76719124\n",
      "   2.78269306  1.15228961 -0.65465367 -0.34571429  1.51743937]\n",
      " [-0.55709285  2.01622267  1.16644349  2.68726493 -1.13440247  0.77640618\n",
      "   0.63941214  1.97169555  1.52752523  1.51153824 -1.14473497]\n",
      " [-0.55709285  1.54586311  0.85582784  2.41536081 -1.14218122  1.4400012\n",
      "   1.35383911 -0.65040347  1.52752523  0.8285803  -0.07986523]\n",
      " [-0.55709285  0.69090016  1.10105072  0.7058878  -0.96586267  0.77640618\n",
      "   0.63941214  1.97169555  1.52752523  0.94650109 -1.14473497]\n",
      " [-0.03153356  0.64845519  0.98661338 -0.52879736 -0.86214587  1.88239788\n",
      "   2.06826609 -0.48652228 -0.65465367 -0.71652606  1.51743937]\n",
      " [-0.66220471 -0.3927459  -0.81168773 -0.66201088 -0.19576545 -0.68350287\n",
      "  -0.68227776 -0.89622525 -0.65465367 -0.66508311 -1.14473497]\n",
      " [-0.87242843  1.56405381  2.24542415 -0.17812551 -1.04624319  0.11281115\n",
      "   0.10359191  1.15228961 -0.65465367 -0.71421678  0.98500451]\n",
      " [-0.13664542  0.61207378  1.01930976  1.28708402 -0.89326091  0.11281115\n",
      "   0.10359191  1.15228961  1.52752523  1.68350606 -1.14473497]\n",
      " [-0.87242843 -0.68639579 -0.95882145 -0.67646942  1.16292458 -0.77198221\n",
      "  -0.75372046 -0.65040347 -0.65465367 -0.71048262 -0.07986523]\n",
      " [-0.87242843 -1.64617183 -0.99151784 -0.67691037  1.35739358 -0.77198221\n",
      "  -0.75372046 -1.20350248 -0.65465367 -0.66311777  0.98500451]\n",
      " [ 0.28380202  0.55750168  0.16920379  0.19535972 -0.94771223 -0.10838719\n",
      "  -0.07501483  0.33288366 -0.65465367  2.24019048 -0.07986523]\n",
      " [ 0.17869016 -0.72970698 -0.97516964 -0.66314807  1.24849094 -0.77198221\n",
      "  -0.75372046 -1.26495792 -0.65465367 -0.71868794 -1.14473497]\n",
      " [ 0.28380202 -0.74703146 -0.92612507 -0.62153625  1.09550867 -0.77198221\n",
      "  -0.75372046 -0.2407005  -0.65465367 -0.69136962  0.45256964]\n",
      " [-0.45198099 -0.6829309  -0.90977688 -0.64615986  1.08513699 -0.68350287\n",
      "  -0.68227776 -0.07681931 -0.65465367 -0.66016975  0.98500451]\n",
      " [-0.03153356 -0.70545272 -0.92612507 -0.63734085  1.05142903 -0.72774254\n",
      "  -0.71799911  0.00512129 -0.65465367 -0.51276875 -1.14473497]\n",
      " [ 0.70424946  0.13391821  0.25094474 -0.49050427 -0.71175652 -0.5065442\n",
      "  -0.50367102  0.33288366  1.52752523 -0.47198781  0.45256964]\n",
      " [-0.97754029 -0.74183412 -0.99151784 -0.6380603   1.36257942 -0.77198221\n",
      "  -0.75372046 -0.89622525 -0.65465367 -0.70443918  0.45256964]\n",
      " [-0.66220471 -1.58466994 -0.69725038 -0.67658546  0.26318137 -0.77198221\n",
      "  -0.75372046 -1.14204703 -0.65465367 -0.7033091  -1.67716983]]\n"
     ]
    }
   ],
   "source": [
    "print(X_val_scaled)"
   ]
  },
  {
   "cell_type": "code",
   "execution_count": 272,
   "id": "ff94b757",
   "metadata": {},
   "outputs": [
    {
     "data": {
      "image/png": "[encoded data removed]",
      "text/plain": [
       "<Figure size 640x480 with 1 Axes>"
      ]
     },
     "metadata": {},
     "output_type": "display_data"
    }
   ],
   "source": [
    "plt.xlim([-1, 6])\n",
    "plt.ylim([0, 85])\n",
    "\n",
    "# run this cell and observe the pattern of training data.\n",
    "plt.plot(X_scaled[:,[7]],y,'o')\n",
    "plt.title('y vs. X from training set')\n",
    "plt.xlabel('X')\n",
    "plt.ylabel('y')\n",
    "plt.grid(True)\n",
    "plt.show(block=False)"
   ]
  },
  {
   "cell_type": "code",
   "execution_count": 273,
   "id": "a094987b",
   "metadata": {
    "scrolled": false
   },
   "outputs": [
    {
     "data": {
      "image/png": "[encoded data removed]",
      "text/plain": [
       "<Figure size 1000x1000 with 12 Axes>"
      ]
     },
     "metadata": {},
     "output_type": "display_data"
    }
   ],
   "source": [
    "fig, axs = plt.subplots(2, 6, figsize=(10,10)) \n",
    "\n",
    "# top row\n",
    "axs[0, 0].scatter(X[:,[0]],y, s=1)\n",
    "axs[0, 0].set_xlabel(\"Length of Title\")\n",
    "axs[0, 1].scatter(X[:,[1]],y, s=1)\n",
    "axs[0, 1].set_xlabel(\"Score\")\n",
    "axs[0, 2].scatter(X[:,[2]],y, s=1)\n",
    "axs[0, 2].set_xlabel(\"LeaderBoard\")\n",
    "axs[0, 3].scatter(X[:,[3]],y, s=1)\n",
    "axs[0, 3].set_xlabel(\"Gamers\")\n",
    "axs[0, 4].scatter(X[:,[4]],y, s=1)\n",
    "axs[0, 4].set_xlabel(\"Completion%\")\n",
    "axs[0, 5].scatter(X[:,[5]],y, s=1)\n",
    "axs[0, 5].set_xlabel(\"min_comp_time\")\n",
    "\n",
    "# bottom row\n",
    "axs[1, 0].scatter(X[:,[6]],y, s=1)\n",
    "axs[1, 0].set_xlabel(\"max_comp_time\")\n",
    "axs[1, 1].scatter(X[:,[7]],y, s=1)\n",
    "axs[1, 1].set_xlabel(\"price\")\n",
    "axs[1, 2].scatter(X[:,[8]],y, s=1)\n",
    "axs[1, 2].set_xlabel(\"AAA\")\n",
    "axs[1, 3].scatter(X[:,[9]],y, s=1)\n",
    "axs[1, 3].set_xlabel(\"size\")\n",
    "axs[1, 4].scatter(X[:,[10]],y, s=1)\n",
    "axs[1, 4].set_xlabel(\"Platforms\")\n",
    "\n",
    "for ax in axs.flat:\n",
    "    ax.set( ylabel='Rating')\n",
    "    \n",
    "fig.tight_layout()"
   ]
  },
  {
   "cell_type": "code",
   "execution_count": 121,
   "id": "6a04051d",
   "metadata": {},
   "outputs": [],
   "source": [
    "def poly_regression(X,y,lambda1): # We are using X for the design matrix.  It might be that X is in Z-space\n",
    "    d = X.shape[1]\n",
    "    N = X.shape[0]\n",
    "    chunk1 = X.T.dot(X)\n",
    "    chunk2 = N*lambda1*np.eye(X.shape[1])\n",
    "    chunk3 = X.T.dot(y)\n",
    "    w = np.linalg.inv(chunk1 + chunk2).dot(X.T).dot(y)\n",
    "\n",
    "    return w.reshape((w.shape[0],1))\n"
   ]
  },
  {
   "cell_type": "code",
   "execution_count": 274,
   "id": "a2dc13c2",
   "metadata": {},
   "outputs": [
    {
     "name": "stdout",
     "output_type": "stream",
     "text": [
      "Order:  1\n",
      "(12, 1)\n",
      "(20, 1)\n",
      "X_tr_poly size: (100, 12)\n",
      "max: 6.537317018730445\n",
      "E_in:  92.12507802481936\n",
      "E_val: 24.913912354404573\n",
      "-------------------------\n",
      "Order:  2\n",
      "(78, 1)\n",
      "(20, 1)\n",
      "X_tr_poly size: (100, 78)\n",
      "max: 42.73651380338271\n",
      "E_in:  128.1788697014593\n",
      "E_val: 371937.28213381383\n",
      "-------------------------\n",
      "Order:  3\n",
      "(364, 1)\n",
      "(20, 1)\n",
      "X_tr_poly size: (100, 364)\n",
      "max: 279.3821390080623\n",
      "E_in:  21955102.54549117\n",
      "E_val: 4.222319572785279e+31\n",
      "-------------------------\n"
     ]
    }
   ],
   "source": [
    "lambda1 =0  # We set lambda1 = 0 since we are not using any regularization in part 2.\n",
    "\n",
    "# Record (store) the training error, validation error and w in train_costs(<list>), validation_costs(<list>) and w_dict(<dict>) for degrees = 1, 2, 3,..., 10 \n",
    "validation_costs_6 = []  \n",
    "train_costs_6 = []       \n",
    "w_dict_6 = {}\n",
    "\n",
    "model_degree = range(1,4) # The different feature transformatons we will perform\n",
    "\n",
    "for d in model_degree:\n",
    "    print('Order: ', d)\n",
    "    poly = PolynomialFeatures(d)\n",
    "    X_tr_poly = poly.fit_transform(X_scaled) # transforms the training data\n",
    "    X_val_poly = poly.transform(X_val_scaled) # transforms the validation data\n",
    "    \n",
    "    \n",
    "    # TODO Q06\n",
    "    # Use your function from part 1 to determine w. The design matrix is X_tr_poly and the target vector is y_tr and lambda1=0. \n",
    "    w = poly_regression(X_tr_poly,y,lambda1)\n",
    "    w_dict_6[d] = w  # save the value of w \n",
    "    print(w.shape)\n",
    "    # predict yhat for the training data, compute E_in (MSE for the training data) and store E_in in train_costs\n",
    "    yhat = X_tr_poly.dot(w)\n",
    "    E_in = (1/X_tr_poly.shape[0])*(((yhat-y)**2).sum())\n",
    "    train_costs_6.append(E_in)  \n",
    "\n",
    "    # predict yhat_val for the validation data, compute E_val (MSE for the validation data) and store E_val in validation_costs\n",
    "    yhat_val = X_val_poly.dot(w)\n",
    "    print(yhat_val.shape)\n",
    "    #dis = ((X_val_poly[:1]**2).sum())**.5\n",
    "    E_val = (1/X_val_poly.shape[0])*(((yhat_val-y_val)**2).sum())\n",
    "    validation_costs_6.append(E_val) \n",
    "    \n",
    "#     print(yhat_val.shape)\n",
    "#     print(y_val.shape)\n",
    "    \n",
    "    #print('w: ', w)\n",
    "    print(\"X_tr_poly size:\", X_tr_poly.shape)\n",
    "    print(\"max:\", np.max(X_tr_poly))\n",
    "    print('E_in: ',E_in)\n",
    "    print(\"E_val:\", E_val)\n",
    "    print('-------------------------')"
   ]
  },
  {
   "cell_type": "code",
   "execution_count": 284,
   "id": "61375362",
   "metadata": {},
   "outputs": [
    {
     "name": "stdout",
     "output_type": "stream",
     "text": [
      "[24.913912354404573, 371937.28213381383, 4.222319572785279e+31]\n",
      "[92.12507802481936, 128.1788697014593, 21955102.54549117]\n"
     ]
    },
    {
     "data": {
      "image/png": "[encoded data removed]",
      "text/plain": [
       "<Figure size 640x480 with 1 Axes>"
      ]
     },
     "metadata": {},
     "output_type": "display_data"
    }
   ],
   "source": [
    "plt.ylim(30,70000)\n",
    "MO = np.arange(1,4)\n",
    "print(validation_costs_6)\n",
    "print(train_costs_6)\n",
    "plt.plot(MO,train_costs_6, '.-')   # Training Cost vs Model Order.  Complete the code so it looks like plt.plot(model_degree, train_costs, '.-')\n",
    "plt.plot(MO, validation_costs_6)   # Validation Cost vs Model Order.\n",
    "plt.title('Training and Validation Cost vs Model order')\n",
    "plt.xlabel('Model order')\n",
    "plt.ylabel('Training and Validation Cost')\n",
    "plt.grid(True)\n",
    "plt.show(block=False)"
   ]
  },
  {
   "cell_type": "code",
   "execution_count": 283,
   "id": "abe5761c",
   "metadata": {},
   "outputs": [],
   "source": []
  },
  {
   "cell_type": "code",
   "execution_count": 277,
   "id": "cea6a1ec",
   "metadata": {},
   "outputs": [
    {
     "name": "stdout",
     "output_type": "stream",
     "text": [
      "Estimated model order= 1\n",
      "RSS = 32.282295\n",
      "TSS = 61.717900\n",
      "R^2 = 0.476938\n"
     ]
    }
   ],
   "source": [
    "imin = np.argmin(validation_costs_6)\n",
    "print(\"Estimated model order= {0:d}\".format(imin+1))\n",
    "\n",
    "y_predict_poly = predict(X_scaled,w_dict_6[1])\n",
    "\n",
    "RSS = ((y_predict - y)**2).sum()\n",
    "TSS = ((np.mean(y)- y)**2).sum()\n",
    "R2 = 1- (RSS / TSS)\n",
    "print(\"RSS = {0:f}\".format(RSS))\n",
    "print(\"TSS = {0:f}\".format(TSS))\n",
    "print(\"R^2 = {0:f}\".format(R2))"
   ]
  },
  {
   "cell_type": "code",
   "execution_count": 302,
   "id": "2cc873d5",
   "metadata": {},
   "outputs": [
    {
     "name": "stdout",
     "output_type": "stream",
     "text": [
      "Order:  2\n",
      "1e-10\n",
      "Training size (100, 78)\n",
      "lambda: 1e-10\n",
      "E_in:  113.18514538083471\n",
      "E_val: 3401.3482439383474\n",
      "-------------------------\n",
      "1.6681005372000556e-09\n",
      "Training size (100, 78)\n",
      "lambda: 1.7e-09\n",
      "E_in:  113.15241067951845\n",
      "E_val: 3300.420628541994\n",
      "-------------------------\n",
      "2.782559402207126e-08\n",
      "Training size (100, 78)\n",
      "lambda: 2.78e-08\n",
      "E_in:  112.8826065209607\n",
      "E_val: 1625.7506131482078\n",
      "-------------------------\n",
      "4.641588833612782e-07\n",
      "Training size (100, 78)\n",
      "lambda: 4.642e-07\n",
      "E_in:  112.2138626960837\n",
      "E_val: 1775.5906204193063\n",
      "-------------------------\n",
      "7.742636826811277e-06\n",
      "Training size (100, 78)\n",
      "lambda: 7.7426e-06\n",
      "E_in:  110.71136124976826\n",
      "E_val: 775.2807168797315\n",
      "-------------------------\n",
      "0.00012915496650148855\n",
      "Training size (100, 78)\n",
      "lambda: 0.000129155\n",
      "E_in:  108.52027606918611\n",
      "E_val: 335.2075026543148\n",
      "-------------------------\n",
      "0.002154434690031887\n",
      "Training size (100, 78)\n",
      "lambda: 0.0021544347\n",
      "E_in:  104.75316269722401\n",
      "E_val: 155.9363536458093\n",
      "-------------------------\n",
      "0.0359381366380464\n",
      "Training size (100, 78)\n",
      "lambda: 0.0359381366\n",
      "E_in:  98.21196802416996\n",
      "E_val: 116.32415323434383\n",
      "-------------------------\n",
      "0.5994842503189421\n",
      "Training size (100, 78)\n",
      "lambda: 0.5994842503\n",
      "E_in:  130.06583829871454\n",
      "E_val: 50.14145665929681\n",
      "-------------------------\n",
      "10.0\n",
      "Training size (100, 78)\n",
      "lambda: 10.0\n",
      "E_in:  429.3225728485386\n",
      "E_val: 87.89831968691742\n",
      "-------------------------\n"
     ]
    }
   ],
   "source": [
    "d=2\n",
    "print('Order: ', d)\n",
    "poly = PolynomialFeatures(d)\n",
    "X_tr_poly = poly.fit_transform(X_scaled) # transforms the training data\n",
    "X_val_poly =poly.fit_transform(X_val_scaled) # transforms the validation data\n",
    "\n",
    "validation_costs_10 = []\n",
    "train_costs_10 = []\n",
    "w_dict_10 = {}\n",
    "\n",
    "lambda_values = np.logspace(-10, 1,10) # After finding the best lambda value, we should go and try more lambda values near the best one we have tried.  However, our goal here to show how regularization works - so we will skip that step. \n",
    "\n",
    "for lambda1 in lambda_values:\n",
    "    \n",
    "    # TODO Q10\n",
    "    # Use your function from part 1 to determine w.\n",
    "    w = poly_regression(X_tr_poly,y,lambda1)\n",
    "    print(lambda1)\n",
    "    w_dict_10[lambda1] = w # save w for the current value of lambda1\n",
    "    \n",
    "    # predict yhat for the training data, compute E_in (MSE for the training data) and store E_in in train_costs\n",
    "    yhat = X_tr_poly.dot(w)\n",
    "    E_in = (1/X_tr_poly.shape[0])*(((yhat-y)**2).sum())\n",
    "    train_costs_10.append(E_in)\n",
    "\n",
    "    # predict yhat_val for the validation data, compute E_val (MSE for the validation data) and store E_val in validation_costs\n",
    "    yhat_val = X_val_poly.dot(w)\n",
    "    E_val = (1/X_val_poly.shape[0])*(((yhat_val-y_val)**2).sum())\n",
    "    validation_costs_10.append(E_val)\n",
    "    \n",
    "    #print('w: ', w)\n",
    "    print(\"Training size\", X_tr_poly.shape)\n",
    "\n",
    "    print('lambda:', np.around(lambda1,10))\n",
    "    print('E_in: ',E_in)\n",
    "    print(\"E_val:\", E_val)\n",
    "    print('-------------------------')"
   ]
  },
  {
   "cell_type": "code",
   "execution_count": 303,
   "id": "b07284fc",
   "metadata": {},
   "outputs": [
    {
     "data": {
      "image/png": "[encoded data removed]",
      "text/plain": [
       "<Figure size 640x480 with 1 Axes>"
      ]
     },
     "metadata": {},
     "output_type": "display_data"
    }
   ],
   "source": [
    "plt.ylim(0,900)\n",
    "plt.xscale(\"log\",base=10)\n",
    "\n",
    "Ls = np.arange(1,11)\n",
    "# Plot the learning curve\n",
    "plt.plot(Ls,train_costs_10,'.-') #complete the code so it looks like plt.plot(lambda_values, train_costs,'.-')\n",
    "plt.plot(Ls, validation_costs_10) # now plot the validation_costs instead of the train_costs\n",
    "\n",
    "plt.title('Training and validation costs vs lambda values')\n",
    "plt.ylabel('Training and validation costs')\n",
    "plt.xlabel('lambda values')\n",
    "plt.grid(True)\n",
    "plt.show(block=False)"
   ]
  },
  {
   "cell_type": "code",
   "execution_count": null,
   "id": "06b5c9e6",
   "metadata": {},
   "outputs": [],
   "source": []
  },
  {
   "cell_type": "code",
   "execution_count": 287,
   "id": "d560972c",
   "metadata": {},
   "outputs": [
    {
     "name": "stdout",
     "output_type": "stream",
     "text": [
      "RSS = 9.072885\n",
      "TSS = 14.498000\n",
      "R^2 = 0.374197\n"
     ]
    }
   ],
   "source": [
    "y_predict_reg = predict(X_val_scaled,w_dict_10[0.0359381366380464])\n",
    "\n",
    "RSS = ((y_predict_reg - y_val)**2).sum()\n",
    "TSS = ((np.mean(y_val)- y_val)**2).sum()\n",
    "R2 = 1- (RSS / TSS)\n",
    "print(\"RSS = {0:f}\".format(RSS))\n",
    "print(\"TSS = {0:f}\".format(TSS))\n",
    "print(\"R^2 = {0:f}\".format(R2))"
   ]
  },
  {
   "cell_type": "code",
   "execution_count": null,
   "id": "a58c24b6",
   "metadata": {},
   "outputs": [],
   "source": []
  }
 ],
 "metadata": {
  "kernelspec": {
   "display_name": "Python 3 (ipykernel)",
   "language": "python",
   "name": "python3"
  },
  "language_info": {
   "codemirror_mode": {
    "name": "ipython",
    "version": 3
   },
   "file_extension": ".py",
   "mimetype": "text/x-python",
   "name": "python",
   "nbconvert_exporter": "python",
   "pygments_lexer": "ipython3",
   "version": "3.9.13"
  }
 },
 "nbformat": 4,
 "nbformat_minor": 5
}
