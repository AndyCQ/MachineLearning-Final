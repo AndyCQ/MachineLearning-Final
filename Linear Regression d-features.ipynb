{
 "cells": [
  {
   "cell_type": "code",
   "execution_count": 1,
   "id": "7acc26ca",
   "metadata": {},
   "outputs": [],
   "source": [
    "import numpy as np # linear algebra\n",
    "import pandas as pd # data processing, CSV file I/O (e.g. pd.read_csv)\n",
    "from sklearn.preprocessing import MinMaxScaler\n",
    "\n",
    "from sklearn.preprocessing import StandardScaler # Scaling is suggested when running a gradient descent algorithm\n",
    "\n",
    "import matplotlib # a plotting library\n",
    "from matplotlib import pyplot as plt\n",
    "from sklearn.model_selection import train_test_split\n",
    "from sklearn.preprocessing import PolynomialFeatures\n",
    "%matplotlib inline"
   ]
  },
  {
   "cell_type": "code",
   "execution_count": 2,
   "id": "f6865fd2",
   "metadata": {},
   "outputs": [
    {
     "name": "stdout",
     "output_type": "stream",
     "text": [
      "(100, 11)\n",
      "(100,)\n"
     ]
    }
   ],
   "source": [
    "df = pd.read_csv ('games_data.csv')\n",
    "data = df.to_numpy()\n",
    "X = data[:100 , [1,2,3,4,5,8,9,10,11,12,13]]\n",
    "y = data[:100 , 6]"
   ]
  },
  {
   "cell_type": "code",
   "execution_count": 3,
   "id": "ab135c93",
   "metadata": {},
   "outputs": [
    {
     "name": "stdout",
     "output_type": "stream",
     "text": [
      "[[18 638.0 2.02 ... 0.0 4.42 11.0]\n",
      " [13 1992.0 1.53 ... 0.0 4.04 6.0]\n",
      " [19 1364.0 1.01 ... 0.0 0.089 6.0]\n",
      " ...\n",
      " [28 1395.0 1.09 ... 1.0 1.83 8.0]\n",
      " [21 4835.0 2.0 ... 1.0 49.46 4.0]\n",
      " [17 594.0 1.89 ... 1.0 8.58 2.0]]\n"
     ]
    }
   ],
   "source": [
    "for i in range(X.shape[0]):\n",
    "    X[i][0] = len(X[i][0])\n",
    "print(X)"
   ]
  },
  {
   "cell_type": "code",
   "execution_count": 5,
   "id": "641064c2",
   "metadata": {},
   "outputs": [
    {
     "name": "stdout",
     "output_type": "stream",
     "text": [
      "[-0.55201331 -0.69094953  1.09554111 -0.48449975 -0.97692534  0.05712305\n",
      "  0.08177026 -0.55504491 -1.12815215 -0.27663263  1.26930346]\n"
     ]
    }
   ],
   "source": [
    "scaler = StandardScaler()\n",
    "X_scaled = scaler.fit_transform(X)\n",
    "print(X_scaled[0])"
   ]
  },
  {
   "cell_type": "code",
   "execution_count": 6,
   "id": "ae8b4efe",
   "metadata": {},
   "outputs": [
    {
     "name": "stdout",
     "output_type": "stream",
     "text": [
      "shape of y_2d:  (100, 1)\n"
     ]
    }
   ],
   "source": [
    "# Reshape y into a rank 2 matrix y_2d(<np.ndarray>)\n",
    "y_2d = y.reshape(y.shape[0],1)\n",
    "print(\"shape of y_2d: \", y_2d.shape)"
   ]
  },
  {
   "cell_type": "code",
   "execution_count": 7,
   "id": "cf8a8dde",
   "metadata": {},
   "outputs": [
    {
     "name": "stdout",
     "output_type": "stream",
     "text": [
      "100\n"
     ]
    }
   ],
   "source": [
    "N = X_scaled.shape[0]\n",
    "print(N)"
   ]
  },
  {
   "cell_type": "code",
   "execution_count": 8,
   "id": "22210ef5",
   "metadata": {},
   "outputs": [
    {
     "name": "stdout",
     "output_type": "stream",
     "text": [
      "shape of X_1:  (100, 12)\n"
     ]
    }
   ],
   "source": [
    "ones = np.ones((N,1),dtype=np.int16) \n",
    "X_1 =  np.hstack((ones,X_scaled))\n",
    "print(\"shape of X_1: \", X_1.shape)"
   ]
  },
  {
   "cell_type": "code",
   "execution_count": 9,
   "id": "bf7924fc",
   "metadata": {},
   "outputs": [],
   "source": [
    "def compute_cost(X_1, y, w, N):\n",
    "    # Write your code in place of ellipsis. Cost can be calculated using a single line of code.\n",
    "    # Remember w is a vector here.\n",
    "    cost= ((1/(2*N))*((X_1.dot(w)) - y)**2).sum()\n",
    "    return cost"
   ]
  },
  {
   "cell_type": "code",
   "execution_count": 10,
   "id": "1f290d27",
   "metadata": {},
   "outputs": [],
   "source": [
    "def gradient_descent(X_1 , y , learning_rate , w , n , num_iters):\n",
    "    # In place of ellipsis, write the updated value of w0 in temp0 and of w1 in temp1\n",
    "    # Finish the gradient descent function\n",
    "    for i in range(num_iters):\n",
    "        # derivative vector is given by : X_train.Transpose *  (( X_train * w)- y ) \n",
    "        # You may add your own variables\n",
    "        \n",
    "        wT = w.T\n",
    "        w = w - (learning_rate/n)*(X_1.T.dot((X_1.dot(w)-y)))\n",
    "        if (i%100==0):\n",
    "            # In place of ellipsis, call the cost you just coded above\n",
    "            cost = compute_cost(X_1,y,w,N)\n",
    "\n",
    "            # You can uncomment print statements below to see how cost changes, \n",
    "            # but please make sure you put prints in comments before submission\n",
    "            #print(\"Cost\")\n",
    "            #print(cost)\n",
    "            \n",
    "    return w"
   ]
  },
  {
   "cell_type": "code",
   "execution_count": 12,
   "id": "76bbf578",
   "metadata": {},
   "outputs": [],
   "source": [
    "def multiple_linear_reg_model_gda(X_1 , y , n , learning_rate , num_iters):\n",
    "\n",
    "    #initialize the values of parameter vector w. It should be a column vector of zeros of dimension(d+1,1)\n",
    "    w = np.zeros((X_1.shape[1],1))\n",
    "\n",
    "    #calculate the initial cost by calling the function you coded above.\n",
    "    initial_cost= compute_cost(X_1,y,w,n)\n",
    "#     print(\"Initial Cost\")\n",
    "#     print(initial_cost)\n",
    "\n",
    "    #calculate the optimized value of gradients by calling the gradient_descent function coded above \n",
    "    w = gradient_descent(X_1, y, learning_rate, w, n, num_iters)\n",
    "    \n",
    "    # Calculate the cost with the optimized value of w0 and w1 by calling the cost function.    \n",
    "    final_cost = compute_cost(X_1, y, w, n)\n",
    "    #print(\"Final Cost\")\n",
    "    #print(final_cost)\n",
    "    \n",
    "    return w, initial_cost, final_cost"
   ]
  },
  {
   "cell_type": "code",
   "execution_count": 13,
   "id": "80910ec4",
   "metadata": {},
   "outputs": [
    {
     "name": "stdout",
     "output_type": "stream",
     "text": [
      "w:  [[3.2389999999998897]\n",
      " [-0.07616791519153317]\n",
      " [0.24748112167298617]\n",
      " [-0.2853024016066768]\n",
      " [-0.06439792749280034]\n",
      " [-0.4867019668780324]\n",
      " [-0.21328523855021084]\n",
      " [0.14024932671859486]\n",
      " [0.18402017663966252]\n",
      " [0.195369730044554]\n",
      " [0.08063554404924937]\n",
      " [0.058981504102343374]] \n",
      "initial cost:  5.55415 \n",
      "final cost:  0.15731884403554067\n"
     ]
    }
   ],
   "source": [
    "learning_rate = .002\n",
    "num_iters = 100000\n",
    "results = multiple_linear_reg_model_gda(X_1,y_2d, N, learning_rate, num_iters)\n",
    "\n",
    "w = results[0]\n",
    "print(\"w: \", w, \"\\ninitial cost: \", results[1], \"\\nfinal cost: \", results[2])"
   ]
  },
  {
   "cell_type": "code",
   "execution_count": 14,
   "id": "ecf7c7b1",
   "metadata": {},
   "outputs": [],
   "source": [
    "def predict(x, w_opt): \n",
    "    ones = np.ones((x.shape[0],1),dtype=np.int16) \n",
    "    x_aug =  np.hstack((ones,x))\n",
    "    \n",
    "    predicted_y = w_opt.T.dot(x_aug.T)\n",
    "    \n",
    "    return predicted_y"
   ]
  },
  {
   "cell_type": "code",
   "execution_count": 15,
   "id": "4f76ff43",
   "metadata": {},
   "outputs": [
    {
     "name": "stdout",
     "output_type": "stream",
     "text": [
      "[[3.03345797459005 3.5097992982854938 2.3702725968439187\n",
      "  3.0740246333734826 3.6850234109609086 2.400878780226736\n",
      "  3.7877719427324665 2.412546438992585 2.9783805228627878\n",
      "  3.3606213959270517 2.6282767823491446 3.1594210027396086\n",
      "  2.915022858663201 2.8430519107249874 2.891071374127697\n",
      "  2.966783260573077 3.178888905670627 2.8469880760288024\n",
      "  2.705252654179997 2.9563510112039175 3.045822039876519\n",
      "  2.879961991073873 3.2462175410958154 3.051450199207412\n",
      "  3.0185007768863454 2.8929290923115656 3.0364150786924826\n",
      "  2.829141937938161 2.879151820351131 2.846385529195764\n",
      "  2.8572900522503613 2.828782771125841 2.9192459799602775\n",
      "  2.8884105069021953 2.4423983603672066 3.6315641526660913\n",
      "  2.554148768631738 2.3388697200062594 2.914784407421554 2.61546883743038\n",
      "  3.0359245250081797 3.2443212031075275 3.07930770621998 2.69562691313536\n",
      "  3.4043974301024567 3.9392257460199267 3.4502080217145146\n",
      "  3.399667257964667 2.5171319891903727 4.1092531467387765\n",
      "  3.8788203781953645 2.4882848332696685 3.6745580560569726\n",
      "  3.0561957540621294 2.8965801869664562 3.8859170100482694\n",
      "  3.1931001317491488 2.9930666676560755 3.241720226372367\n",
      "  3.472528708431305 2.2965890630329286 3.332848915221946\n",
      "  3.8893247043768686 3.532720849078448 2.8124181521121208\n",
      "  3.4882611479182177 3.4086750018049425 3.8143514853527503\n",
      "  3.013790429058352 2.975250788624771 2.5130009728831837\n",
      "  3.142114450874029 3.239051839730356 3.3047658233907478\n",
      "  3.793282951416417 4.188979634748659 4.158386336376092 3.665205015853508\n",
      "  4.699644812994201 4.631548572510083 3.7459467652947263\n",
      "  4.174024923349071 4.055065174709182 4.074321350477 3.8074876194236755\n",
      "  4.075318208627637 3.8566851885061104 2.101257256798757\n",
      "  3.296468143949398 3.3696125204100693 2.4055204955004577\n",
      "  3.58449755272613 2.821792578382311 3.807401188075828 3.9063731507564494\n",
      "  3.0065851165339925 3.9252922877297554 3.016532832304862\n",
      "  4.389380281659765 3.5035661309581374]]\n",
      "[3.2 4.2 5.0 3.3 4.3 2.7 4.0 2.1 2.5 3.3 3.4 3.7 3.2 3.8 2.5 2.7 2.2 2.2\n",
      " 2.2 3.1 3.4 3.0 3.5 2.9 3.0 2.9 4.1 2.9 2.9 3.0 2.6 2.6 2.7 2.9 2.4 3.7\n",
      " 2.0 2.0 2.5 2.3 3.1 3.0 3.8 3.3 3.1 3.3 4.4 3.6 1.8 4.1 3.9 3.5 3.3 3.3\n",
      " 3.1 3.0 1.8 2.2 3.7 3.9 1.8 3.2 3.6 4.3 2.0 3.9 3.1 3.4 2.4 2.5 2.4 3.2\n",
      " 3.2 3.4 4.4 3.7 4.2 3.4 4.4 4.4 3.9 4.1 3.5 4.2 4.2 4.0 4.7 1.5 3.5 3.9\n",
      " 1.3 3.8 1.6 4.2 3.6 3.0 4.0 3.8 4.2 3.9]\n"
     ]
    }
   ],
   "source": [
    "y_predict = predict(X_scaled,w)\n",
    "print(y_predict)\n",
    "print(y)"
   ]
  },
  {
   "cell_type": "code",
   "execution_count": 16,
   "id": "13e7c379",
   "metadata": {},
   "outputs": [
    {
     "name": "stdout",
     "output_type": "stream",
     "text": [
      "323.89999999998895\n",
      "323.9000000000001\n",
      "3.2390000000000008\n",
      "RSS = 31.463769\n",
      "TSS = 61.717900\n",
      "R^2 = 0.490200\n"
     ]
    }
   ],
   "source": [
    "print(y_predict.sum())\n",
    "print(y.sum())\n",
    "print(np.mean(y))\n",
    "RSS = ((y_predict - y)**2).sum()\n",
    "TSS = ((np.mean(y)- y)**2).sum()\n",
    "R2 = 1- (RSS / TSS)\n",
    "print(\"RSS = {0:f}\".format(RSS))\n",
    "print(\"TSS = {0:f}\".format(TSS))\n",
    "print(\"R^2 = {0:f}\".format(R2))"
   ]
  },
  {
   "cell_type": "code",
   "execution_count": 19,
   "id": "7577cde5",
   "metadata": {},
   "outputs": [],
   "source": [
    "#Slightly better with standardization"
   ]
  },
  {
   "cell_type": "code",
   "execution_count": 20,
   "id": "e2bdac2e",
   "metadata": {},
   "outputs": [],
   "source": [
    "y_val = data[103:123 , 6]\n",
    "X_val = data[103:123 , [1,2,3,4,5,8,9,10,11,12,13]]\n",
    "for i in range(X_val.shape[0]):\n",
    "    X_val[i][0] = len(X_val[i][0])\n",
    "scaler = StandardScaler()\n",
    "X_val_scaled = scaler.fit_transform(X_val)  "
   ]
  },
  {
   "cell_type": "code",
   "execution_count": 22,
   "id": "210d4079",
   "metadata": {},
   "outputs": [],
   "source": [
    "y_val_predict = predict(X_val_scaled,w)\n"
   ]
  },
  {
   "cell_type": "code",
   "execution_count": 25,
   "id": "00ad0cea",
   "metadata": {},
   "outputs": [
    {
     "name": "stdout",
     "output_type": "stream",
     "text": [
      "64.7799999999978\n",
      "67.8\n",
      "3.3899999999999997\n",
      "RSS = 8.380127\n",
      "TSS = 14.498000\n",
      "R^2 = 0.421980\n"
     ]
    }
   ],
   "source": [
    "print(y_val_predict.sum())\n",
    "print(y_val.sum())\n",
    "print(np.mean(y_val))\n",
    "RSS = ((y_val_predict - y_val)**2).sum()\n",
    "TSS = ((np.mean(y_val)- y_val)**2).sum()\n",
    "R2 = 1- (RSS / TSS)\n",
    "print(\"RSS = {0:f}\".format(RSS))\n",
    "print(\"TSS = {0:f}\".format(TSS))\n",
    "print(\"R^2 = {0:f}\".format(R2))"
   ]
  },
  {
   "cell_type": "code",
   "execution_count": 40,
   "id": "1d5ff093",
   "metadata": {},
   "outputs": [
    {
     "name": "stdout",
     "output_type": "stream",
     "text": [
      "w:  [[3.2389999999998897]\n",
      " [-0.07307304861111595]\n",
      " [0.21185242114791575]\n",
      " [-0.24196967039301978]\n",
      " [-0.4394744314311822]\n",
      " [-0.2675424276760634]\n",
      " [0.18721675479501917]\n",
      " [0.19950908288422453]\n",
      " [0.1981882175492442]\n",
      " [0.050538525444159904]] \n",
      "initial cost:  5.55415 \n",
      "final cost:  0.1594579071225721\n",
      "[[2.9489263047586625 3.4843174352017114 2.3877206666388764\n",
      "  3.182106604874858 3.608214008751536 2.4240489134392065\n",
      "  3.8722556171566715 2.385182664970339 3.0246844195534286\n",
      "  3.257183981940124 2.6380333539538077 3.2488662937723234\n",
      "  2.9734420363289322 2.860141264874207 2.8422280855955986\n",
      "  2.9747054154789074 2.933515384800822 2.8023501465428433\n",
      "  2.697720718692368 2.9804137021100767 3.016750539173507\n",
      "  2.8815092129517166 3.168721245934077 2.9418656206956646\n",
      "  2.9919238989340338 2.8922839111403276 2.958666254454919\n",
      "  2.8613287582791815 2.796905272960812 2.751243634806219\n",
      "  2.8115344013407277 2.8017806641942378 2.8836658359995027\n",
      "  2.9503505290323924 2.473782780184662 3.6062715890474197\n",
      "  2.6202628497932556 2.386446212434889 2.9432068112947523\n",
      "  2.669981548222113 3.0162147787113787 3.2081201181774026\n",
      "  3.044328939512746 2.704188295782092 3.3589243931508017\n",
      "  3.8864084635572484 3.4208002002892792 3.3804188001941347\n",
      "  2.5879456117632014 4.03338311072747 3.943249476449654 2.518187879360505\n",
      "  3.6753842217493586 3.0444002524203304 2.7577403744225695\n",
      "  3.9075929879623548 3.2642034144874086 3.0924409984921386\n",
      "  3.337267129761304 3.4708919854850806 2.3595090276198922\n",
      "  3.3930511160509735 3.7811279730117517 3.548251504417966\n",
      "  2.819464467621693 3.500991647744446 3.3914142167768744\n",
      "  3.7285429313048795 2.9835102944602547 2.9774559980764503\n",
      "  2.5840561001196716 3.222688954200239 3.2781230669995223\n",
      "  3.397219086698622 3.735561328541902 4.07754122418258 4.220876642143195\n",
      "  3.63560888750795 4.711995974819187 4.717485159014283 3.7598028719583856\n",
      "  4.250705918830785 4.155226104610228 4.026273005235296 3.715660044295572\n",
      "  3.9907263340159367 3.8710611575798435 2.206777316112557\n",
      "  3.2857002063521437 3.3668983805311687 2.4519511207304965\n",
      "  3.5809030877399257 2.817561593943346 3.7507880136794727\n",
      "  3.906063230022717 2.9759945782895483 3.837237872248923\n",
      "  3.173253596275476 4.51988450348098 3.606425439977656]]\n",
      "323.8999999999889\n",
      "323.9000000000001\n",
      "3.2390000000000008\n",
      "RSS = 31.891581\n",
      "TSS = 61.717900\n",
      "R^2 = 0.483269\n"
     ]
    }
   ],
   "source": [
    "X_1 = data[:100 , [1,2,3,5,8,9,10,11,12]]\n",
    "for i in range(X_1.shape[0]):\n",
    "    X_1[i][0] = len(X_1[i][0])\n",
    "scaler = StandardScaler()\n",
    "X_d = scaler.fit_transform(X_1)\n",
    "\n",
    "ones = np.ones((N,1),dtype=np.int16) \n",
    "X_1 =  np.hstack((ones,X_d))\n",
    "\n",
    "learning_rate = .002\n",
    "num_iters = 100000\n",
    "results = multiple_linear_reg_model_gda(X_1,y_2d, N, learning_rate, num_iters)\n",
    "\n",
    "w = results[0]\n",
    "print(\"w: \", w, \"\\ninitial cost: \", results[1], \"\\nfinal cost: \", results[2])\n",
    "\n",
    "y_predict = predict(X_d,w)\n",
    "print(y_predict)\n",
    "\n",
    "print(y_predict.sum())\n",
    "print(y.sum())\n",
    "print(np.mean(y))\n",
    "RSS = ((y_predict - y)**2).sum()\n",
    "TSS = ((np.mean(y)- y)**2).sum()\n",
    "R2 = 1- (RSS / TSS)\n",
    "print(\"RSS = {0:f}\".format(RSS))\n",
    "print(\"TSS = {0:f}\".format(TSS))\n",
    "print(\"R^2 = {0:f}\".format(R2))"
   ]
  },
  {
   "cell_type": "code",
   "execution_count": null,
   "id": "0d6bff37",
   "metadata": {},
   "outputs": [],
   "source": []
  }
 ],
 "metadata": {
  "kernelspec": {
   "display_name": "Python 3 (ipykernel)",
   "language": "python",
   "name": "python3"
  },
  "language_info": {
   "codemirror_mode": {
    "name": "ipython",
    "version": 3
   },
   "file_extension": ".py",
   "mimetype": "text/x-python",
   "name": "python",
   "nbconvert_exporter": "python",
   "pygments_lexer": "ipython3",
   "version": "3.9.13"
  }
 },
 "nbformat": 4,
 "nbformat_minor": 5
}
