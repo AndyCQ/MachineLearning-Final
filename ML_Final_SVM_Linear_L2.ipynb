{
 "cells": [
  {
   "cell_type": "code",
   "execution_count": 92,
   "id": "b0a39953",
   "metadata": {},
   "outputs": [],
   "source": [
    "import numpy as np # linear algebra\n",
    "import pandas as pd # data processing, CSV file I/O (e.g. pd.read_csv)\n",
    "from sklearn.preprocessing import MinMaxScaler\n",
    "from sklearn.preprocessing import StandardScaler\n",
    "from sklearn.preprocessing import PolynomialFeatures\n",
    "from sklearn.pipeline import make_pipeline\n",
    "from sklearn.svm import SVC\n",
    "import matplotlib.pyplot as plt "
   ]
  },
  {
   "cell_type": "code",
   "execution_count": 93,
   "id": "3051552b",
   "metadata": {},
   "outputs": [
    {
     "name": "stdout",
     "output_type": "stream",
     "text": [
      "[['Batman: Return to Arkham - Arkham Asylum' 2382.0 1.76 42126.0 17.3\n",
      "  15.0 20.0 19.99 1.0 47.3 6.0]\n",
      " ['Batman: The Enemy Within - The Telltale Series' 1352.0 1.06 29593.0\n",
      "  81.4 8.0 10.0 4.99 0.0 3.9 7.0]\n",
      " ['Battle Chasers: Nightwar' 2999.0 2.27 8141.0 10.5 80.0 100.0 29.99 0.0\n",
      "  7.7 8.0]\n",
      " ['Battlefield 1' 4515.0 2.33 145216.0 2.0 35.0 40.0 39.99 1.0 45.5 3.0]\n",
      " ['Battlefield 4' 3972.0 2.14 133500.0 1.7 50.0 60.0 7.99 1.0 31.6 5.0]\n",
      " ['Battlefield V' 2985.0 2.29 59841.0 8.5 35.0 40.0 39.99 1.0 34.0 3.0]\n",
      " ['Beach Buggy Racing' 2936.0 2.22 6640.0 12.5 60.0 80.0 9.99 0.0 0.153\n",
      "  8.0]\n",
      " ['Bear With Me' 1734.0 1.12 900.0 38.2 2.0 3.0 4.99 0.0 1.2 3.0]\n",
      " ['Beat Saber' 3993.0 2.99 21750.0 5.4 20.0 25.0 29.99 0.0 0.2 7.0]\n",
      " ['Beyond: Two Souls' 2894.0 2.24 84884.0 11.3 20.0 25.0 29.99 1.0 49.0\n",
      "  3.0]\n",
      " ['BFF or Die' 1395.0 1.03 277.0 90.6 0.0 1.0 7.99 0.0 0.276 5.0]\n",
      " ['Big Dipper' 287.0 1.01 258.0 98.1 0.0 1.0 1.24 0.0 1.24 7.0]\n",
      " ['BioShock 2 Remastered' 2831.0 1.72 37843.0 9.2 15.0 20.0 19.99 0.0\n",
      "  60.33 5.0]\n",
      " ['Birthday Of Midnight' 1345.0 1.02 851.0 93.9 0.0 1.0 0.49 0.0 0.109\n",
      "  3.0]\n",
      " ['Black & White Bushido' 1325.0 1.05 2644.0 88.0 0.0 1.0 12.99 0.0 0.665\n",
      "  6.0]\n",
      " ['Black The Fall' 1399.0 1.06 1583.0 87.6 2.0 3.0 14.99 0.0 1.3 7.0]\n",
      " ['Blackwood Crossing' 1373.0 1.05 1963.0 86.3 1.0 2.0 15.99 0.0 4.3 3.0]\n",
      " ['BlazBlue Cross Tag Battle' 2342.0 1.77 8290.0 18.3 6.0 8.0 19.99 1.0\n",
      "  5.13 6.0]\n",
      " ['Blind Men' 1331.0 1.01 1932.0 98.3 0.0 1.0 4.99 0.0 0.399 6.0]\n",
      " ['Blindfold VR' 358.0 1.19 272.0 55.9 0.0 1.0 1.99 0.0 0.422 2.0]\n",
      " ['Blood & Truth' 4861.0 3.27 12604.0 0.8 20.0 25.0 39.99 1.0 31.8 1.0]\n",
      " ['Bloodborne' 2153.0 1.41 163572.0 24.4 60.0 80.0 99.99 1.0 27.2 1.0]\n",
      " ['Bloodstained: Curse of the Moon' 499.0 1.66 5700.0 17.2 8.0 10.0 9.99\n",
      "  0.0 0.049 1.0]\n",
      " ['Bloodstained: Ritual of the Night' 1962.0 1.45 13446.0 33.2 30.0 35.0\n",
      "  39.99 0.0 8.15 8.0]\n",
      " ['Blue Reflection' 2014.0 1.49 4905.0 36.0 35.0 40.0 59.99 0.0 19.0 3.0]\n",
      " ['Blues and Bullets' 1442.0 1.12 1700.0 0.0 1.0 2.0 4.99 0.0 2.0 3.0]\n",
      " ['Bonfire' 1441.0 1.13 441.0 66.9 0.0 1.0 4.99 0.0 1.8 1.0]\n",
      " ['Borderlands 2' 4709.0 2.23 128033.0 3.9 80.0 100.0 9.99 0.0 26.7 10.0]\n",
      " ['Borderlands 3 (PS4)' 4339.0 2.0 79667.0 0.5 50.0 60.0 59.99 0.0 38.01\n",
      "  7.0]\n",
      " ['Borderlands: Game of the Year Edition' 3529.0 1.72 25273.0 6.7 20.0\n",
      "  25.0 9.89 0.0 12.13 4.0]\n",
      " ['Bouncy Bullets' 1346.0 1.02 2685.0 94.5 0.0 1.0 0.49 0.0 0.207 5.0]\n",
      " [\"Breeder Homegrown: Director's Cut\" 1329.0 1.03 756.0 93.3 0.0 1.0 1.49\n",
      "  0.0 0.124 4.0]\n",
      " ['Bridge Constructor' 1741.0 1.35 5450.0 45.6 10.0 12.0 1.99 0.0 0.792\n",
      "  14.0]\n",
      " ['BRIKS' 1436.0 1.13 694.0 74.5 5.0 6.0 5.99 0.0 1.0 3.0]\n",
      " ['Broken Age' 2958.0 2.19 36104.0 11.8 10.0 12.0 14.99 0.0 3.71 10.0]\n",
      " [\"Broken Sword 5 – The Serpent's Curse\" 1561.0 1.2 5943.0 59.7 6.0 8.0\n",
      "  24.99 0.0 4.8 9.0]]\n"
     ]
    }
   ],
   "source": [
    "df = pd.read_csv ('games_data.csv')\n",
    "data = df.to_numpy()\n",
    "X = data[:100 , [1,2,3,4,5,8,9,10,11,12,13]]\n",
    "y = data[:100 , 6]\n",
    "\n",
    "X_val = data[103:139, [1,2,3,4,5,8,9,10,11,12,13]]\n",
    "y_val = data[103:139, 6]\n",
    "\n",
    "print(X_val)"
   ]
  },
  {
   "cell_type": "code",
   "execution_count": 94,
   "id": "7c288f21",
   "metadata": {},
   "outputs": [],
   "source": [
    "for i in range(X.shape[0]):\n",
    "    X[i][0] = len(X[i][0])\n",
    "\n",
    "for i in range(X_val.shape[0]):\n",
    "    X_val[i][0] = len(X_val[i][0])"
   ]
  },
  {
   "cell_type": "code",
   "execution_count": 95,
   "id": "090a3d4f",
   "metadata": {},
   "outputs": [],
   "source": [
    "y_encoded = [] #using Neural Networking, categorize the game to success or not. \n",
    "for i in range(y.shape[0]):\n",
    "    if y[i] >= 2.5:\n",
    "        y_encoded.append(1)\n",
    "    else:\n",
    "        y_encoded.append(0)"
   ]
  },
  {
   "cell_type": "code",
   "execution_count": 96,
   "id": "5582cc63",
   "metadata": {},
   "outputs": [],
   "source": [
    "scaler = StandardScaler()\n",
    "X= scaler.fit_transform(X)\n",
    "X_val = scaler.transform(X_val)"
   ]
  },
  {
   "cell_type": "code",
   "execution_count": 97,
   "id": "4a739045",
   "metadata": {},
   "outputs": [],
   "source": [
    "training_model = SVC(kernel='linear',gamma='auto')"
   ]
  },
  {
   "cell_type": "code",
   "execution_count": 98,
   "id": "b1d18bc4",
   "metadata": {},
   "outputs": [
    {
     "data": {
      "text/plain": [
       "SVC(gamma='auto', kernel='linear')"
      ]
     },
     "execution_count": 98,
     "metadata": {},
     "output_type": "execute_result"
    }
   ],
   "source": [
    "training_model.fit(X, y_encoded)"
   ]
  },
  {
   "cell_type": "code",
   "execution_count": 99,
   "id": "0d08f3b8",
   "metadata": {},
   "outputs": [
    {
     "name": "stdout",
     "output_type": "stream",
     "text": [
      "36\n"
     ]
    }
   ],
   "source": [
    "y_val_encoded = [] #using Neural Networking, categorize the game to success or not. \n",
    "for i in range(y_val.shape[0]):\n",
    "    if y[i] >= 2.5:\n",
    "        y_val_encoded.append(1)\n",
    "    else:\n",
    "        y_val_encoded.append(0)\n",
    "print(X_val.shape[0])"
   ]
  },
  {
   "cell_type": "code",
   "execution_count": 100,
   "id": "81fe82ea",
   "metadata": {},
   "outputs": [
    {
     "name": "stdout",
     "output_type": "stream",
     "text": [
      "[1 0 1 1 1 1 1 1 1 1 0 0 1 0 0 0 0 1 0 0 1 1 1 1 1 1 0 1 1 1 0 0 1 0 1 1]\n",
      "{'C': 1.0, 'break_ties': False, 'cache_size': 200, 'class_weight': None, 'coef0': 0.0, 'decision_function_shape': 'ovr', 'degree': 3, 'gamma': 'auto', 'kernel': 'linear', 'max_iter': -1, 'probability': False, 'random_state': None, 'shrinking': True, 'tol': 0.001, 'verbose': False}\n"
     ]
    }
   ],
   "source": [
    "result = training_model.predict(X_val)\n",
    "print(result)\n",
    "print(SVC.get_params(training_model))"
   ]
  },
  {
   "cell_type": "code",
   "execution_count": 101,
   "id": "d6384168",
   "metadata": {},
   "outputs": [
    {
     "name": "stdout",
     "output_type": "stream",
     "text": [
      "0.6111111111111112\n"
     ]
    }
   ],
   "source": [
    "sum = 0\n",
    "for i in range(X_val.shape[0]):\n",
    "    if result[i] == y_val_encoded[i]:\n",
    "        sum += 1\n",
    "accuracy = sum/X_val.shape[0]\n",
    "score = training_model.score(X_val,y_val_encoded)\n",
    "print(score)"
   ]
  },
  {
   "cell_type": "code",
   "execution_count": 102,
   "id": "fe74d5ca",
   "metadata": {},
   "outputs": [
    {
     "name": "stderr",
     "output_type": "stream",
     "text": [
      "/Users/yujunlu/opt/anaconda3/lib/python3.9/site-packages/sklearn/svm/_base.py:284: ConvergenceWarning: Solver terminated early (max_iter=1).  Consider pre-processing your data with StandardScaler or MinMaxScaler.\n",
      "  warnings.warn(\n",
      "/Users/yujunlu/opt/anaconda3/lib/python3.9/site-packages/sklearn/svm/_base.py:284: ConvergenceWarning: Solver terminated early (max_iter=1).  Consider pre-processing your data with StandardScaler or MinMaxScaler.\n",
      "  warnings.warn(\n",
      "/Users/yujunlu/opt/anaconda3/lib/python3.9/site-packages/sklearn/svm/_base.py:284: ConvergenceWarning: Solver terminated early (max_iter=1).  Consider pre-processing your data with StandardScaler or MinMaxScaler.\n",
      "  warnings.warn(\n",
      "/Users/yujunlu/opt/anaconda3/lib/python3.9/site-packages/sklearn/svm/_base.py:284: ConvergenceWarning: Solver terminated early (max_iter=10).  Consider pre-processing your data with StandardScaler or MinMaxScaler.\n",
      "  warnings.warn(\n",
      "/Users/yujunlu/opt/anaconda3/lib/python3.9/site-packages/sklearn/svm/_base.py:284: ConvergenceWarning: Solver terminated early (max_iter=10).  Consider pre-processing your data with StandardScaler or MinMaxScaler.\n",
      "  warnings.warn(\n",
      "/Users/yujunlu/opt/anaconda3/lib/python3.9/site-packages/sklearn/svm/_base.py:284: ConvergenceWarning: Solver terminated early (max_iter=10).  Consider pre-processing your data with StandardScaler or MinMaxScaler.\n",
      "  warnings.warn(\n",
      "/Users/yujunlu/opt/anaconda3/lib/python3.9/site-packages/sklearn/svm/_base.py:284: ConvergenceWarning: Solver terminated early (max_iter=50).  Consider pre-processing your data with StandardScaler or MinMaxScaler.\n",
      "  warnings.warn(\n",
      "/Users/yujunlu/opt/anaconda3/lib/python3.9/site-packages/sklearn/svm/_base.py:284: ConvergenceWarning: Solver terminated early (max_iter=50).  Consider pre-processing your data with StandardScaler or MinMaxScaler.\n",
      "  warnings.warn(\n",
      "/Users/yujunlu/opt/anaconda3/lib/python3.9/site-packages/sklearn/svm/_base.py:284: ConvergenceWarning: Solver terminated early (max_iter=70).  Consider pre-processing your data with StandardScaler or MinMaxScaler.\n",
      "  warnings.warn(\n",
      "/Users/yujunlu/opt/anaconda3/lib/python3.9/site-packages/sklearn/svm/_base.py:284: ConvergenceWarning: Solver terminated early (max_iter=70).  Consider pre-processing your data with StandardScaler or MinMaxScaler.\n",
      "  warnings.warn(\n",
      "/Users/yujunlu/opt/anaconda3/lib/python3.9/site-packages/sklearn/svm/_base.py:284: ConvergenceWarning: Solver terminated early (max_iter=100).  Consider pre-processing your data with StandardScaler or MinMaxScaler.\n",
      "  warnings.warn(\n",
      "/Users/yujunlu/opt/anaconda3/lib/python3.9/site-packages/sklearn/svm/_base.py:284: ConvergenceWarning: Solver terminated early (max_iter=100).  Consider pre-processing your data with StandardScaler or MinMaxScaler.\n",
      "  warnings.warn(\n",
      "/Users/yujunlu/opt/anaconda3/lib/python3.9/site-packages/sklearn/svm/_base.py:284: ConvergenceWarning: Solver terminated early (max_iter=200).  Consider pre-processing your data with StandardScaler or MinMaxScaler.\n",
      "  warnings.warn(\n",
      "/Users/yujunlu/opt/anaconda3/lib/python3.9/site-packages/sklearn/svm/_base.py:284: ConvergenceWarning: Solver terminated early (max_iter=200).  Consider pre-processing your data with StandardScaler or MinMaxScaler.\n",
      "  warnings.warn(\n",
      "/Users/yujunlu/opt/anaconda3/lib/python3.9/site-packages/sklearn/svm/_base.py:284: ConvergenceWarning: Solver terminated early (max_iter=300).  Consider pre-processing your data with StandardScaler or MinMaxScaler.\n",
      "  warnings.warn(\n",
      "/Users/yujunlu/opt/anaconda3/lib/python3.9/site-packages/sklearn/svm/_base.py:284: ConvergenceWarning: Solver terminated early (max_iter=400).  Consider pre-processing your data with StandardScaler or MinMaxScaler.\n",
      "  warnings.warn(\n",
      "/Users/yujunlu/opt/anaconda3/lib/python3.9/site-packages/sklearn/svm/_base.py:284: ConvergenceWarning: Solver terminated early (max_iter=500).  Consider pre-processing your data with StandardScaler or MinMaxScaler.\n",
      "  warnings.warn(\n"
     ]
    },
    {
     "data": {
      "image/png": "[encoded data removed]",
      "text/plain": [
       "<Figure size 640x480 with 1 Axes>"
      ]
     },
     "metadata": {},
     "output_type": "display_data"
    }
   ],
   "source": [
    "plot_x = []\n",
    "iteration_array = [1,10, 50, 70, 100, 200, 300, 400, 500]\n",
    "start_c = 0.001\n",
    "start_iter = 1\n",
    "for i in range(5):\n",
    "    start_c *= 10\n",
    "    plot_x.append(start_c)\n",
    "plot_y = []\n",
    "plot_val_y = []\n",
    "\n",
    "plot_y_2 = []\n",
    "plot_val_y_2 = []\n",
    "\n",
    "plot_y_3 = []\n",
    "plot_val_y_3 = []\n",
    "\n",
    "plt.title(\"Accuracy vs. iteration number\") \n",
    "plt.ylabel(\"Accuracy\") \n",
    "plt.xlabel(\"iteration number\") \n",
    "\n",
    "for iteration in iteration_array:\n",
    "        training_model1 = SVC(C = 0.01,kernel='linear', gamma='auto', max_iter=iteration)\n",
    "        training_model2 = SVC(C = 1,kernel='linear', gamma='auto', max_iter=iteration)\n",
    "        training_model3 = SVC(C = 10,kernel='linear', gamma='auto', max_iter=iteration)\n",
    "        training_model1.fit(X, y_encoded)\n",
    "        training_model2.fit(X, y_encoded)\n",
    "        training_model3.fit(X, y_encoded)\n",
    "        \n",
    "        \n",
    "        score1 = training_model1.score(X,y_encoded)\n",
    "        plot_y.append(score1)\n",
    "        score1 = training_model1.score(X_val,y_val_encoded)\n",
    "        plot_val_y.append(score1)\n",
    "        \n",
    "        score2 = training_model2.score(X,y_encoded)\n",
    "        plot_y_2.append(score2)\n",
    "        score2 = training_model2.score(X_val,y_val_encoded)\n",
    "        plot_val_y_2.append(score2)\n",
    "        \n",
    "        score3 = training_model3.score(X,y_encoded)\n",
    "        plot_y_3.append(score3)\n",
    "        score3 = training_model3.score(X_val,y_val_encoded)\n",
    "        plot_val_y_3.append(score3)\n",
    "plt.grid()\n",
    "plt.plot(iteration_array, plot_val_y,label = 'C = 0.01')\n",
    "plt.plot(iteration_array, plot_val_y_2, label = 'C = 1')\n",
    "plt.plot(iteration_array, plot_val_y_3, label = 'C = 10')\n",
    "plt.plot(iteration_array, plot_y, label = 'train set, C = 0.01')\n",
    "plt.legend()\n",
    "\n",
    "plt.show()"
   ]
  }
 ],
 "metadata": {
  "kernelspec": {
   "display_name": "Python 3 (ipykernel)",
   "language": "python",
   "name": "python3"
  },
  "language_info": {
   "codemirror_mode": {
    "name": "ipython",
    "version": 3
   },
   "file_extension": ".py",
   "mimetype": "text/x-python",
   "name": "python",
   "nbconvert_exporter": "python",
   "pygments_lexer": "ipython3",
   "version": "3.9.13"
  }
 },
 "nbformat": 4,
 "nbformat_minor": 5
}
