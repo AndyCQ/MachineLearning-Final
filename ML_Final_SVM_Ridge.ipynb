{
 "cells": [
  {
   "cell_type": "code",
   "execution_count": 40,
   "id": "b0a39953",
   "metadata": {},
   "outputs": [],
   "source": [
    "import numpy as np # linear algebra\n",
    "import pandas as pd # data processing, CSV file I/O (e.g. pd.read_csv)\n",
    "from sklearn.preprocessing import MinMaxScaler\n",
    "from sklearn.preprocessing import StandardScaler\n",
    "from sklearn.preprocessing import PolynomialFeatures\n",
    "from sklearn.pipeline import make_pipeline\n",
    "from sklearn.svm import SVC\n",
    "import matplotlib.pyplot as plt "
   ]
  },
  {
   "cell_type": "code",
   "execution_count": 27,
   "id": "3051552b",
   "metadata": {},
   "outputs": [
    {
     "name": "stdout",
     "output_type": "stream",
     "text": [
      "[['A Boy and His Blob' 638.0 2.02 ... 0.0 4.42 11.0]\n",
      " ['A Hat in Time' 1992.0 1.53 ... 0.0 4.04 6.0]\n",
      " ['A Hero and a Garden' 1364.0 1.01 ... 0.0 0.089 6.0]\n",
      " ...\n",
      " ['BATMAN – The Telltale Series' 1395.0 1.09 ... 1.0 1.83 8.0]\n",
      " ['Batman: Arkham Knight' 4835.0 2.0 ... 1.0 49.46 4.0]\n",
      " ['Batman: Arkham VR' 594.0 1.89 ... 1.0 8.58 2.0]]\n"
     ]
    }
   ],
   "source": [
    "df = pd.read_csv ('games_data.csv')\n",
    "data = df.to_numpy()\n",
    "X = data[:100 , [1,2,3,4,5,8,9,10,11,12,13]]\n",
    "y = data[:100 , 6]\n",
    "\n",
    "X_val = data[103:139, [1,2,3,4,5,8,9,10,11,12,13]]\n",
    "y_val = data[103:139, 6]\n",
    "\n",
    "print(X)"
   ]
  },
  {
   "cell_type": "code",
   "execution_count": 28,
   "id": "7c288f21",
   "metadata": {},
   "outputs": [],
   "source": [
    "for i in range(X.shape[0]): \n",
    "    X[i][0] = len(X[i][0])\n",
    "\n",
    "for i in range(X_val.shape[0]):\n",
    "    X_val[i][0] = len(X_val[i][0])"
   ]
  },
  {
   "cell_type": "code",
   "execution_count": 29,
   "id": "090a3d4f",
   "metadata": {},
   "outputs": [],
   "source": [
    "y_encoded = [] #using Neural Networking, categorize the game to success or not. \n",
    "for i in range(y.shape[0]):\n",
    "    if y[i] >= 2.5:\n",
    "        y_encoded.append(1)\n",
    "    else:\n",
    "        y_encoded.append(0)"
   ]
  },
  {
   "cell_type": "code",
   "execution_count": 30,
   "id": "5582cc63",
   "metadata": {},
   "outputs": [],
   "source": [
    "scaler = StandardScaler()\n",
    "X= scaler.fit_transform(X)\n",
    "X_val = scaler.transform(X_val)"
   ]
  },
  {
   "cell_type": "code",
   "execution_count": 31,
   "id": "4a739045",
   "metadata": {},
   "outputs": [],
   "source": [
    "training_model = SVC(gamma='auto')"
   ]
  },
  {
   "cell_type": "code",
   "execution_count": 32,
   "id": "b1d18bc4",
   "metadata": {},
   "outputs": [
    {
     "data": {
      "text/plain": [
       "SVC(gamma='auto')"
      ]
     },
     "execution_count": 32,
     "metadata": {},
     "output_type": "execute_result"
    }
   ],
   "source": [
    "training_model.fit(X, y_encoded)"
   ]
  },
  {
   "cell_type": "code",
   "execution_count": 33,
   "id": "0d08f3b8",
   "metadata": {},
   "outputs": [
    {
     "name": "stdout",
     "output_type": "stream",
     "text": [
      "36\n"
     ]
    }
   ],
   "source": [
    "y_val_encoded = [] #using Neural Networking, categorize the game to success or not. \n",
    "for i in range(y_val.shape[0]):\n",
    "    if y[i] >= 2.5:\n",
    "        y_val_encoded.append(1)\n",
    "    else:\n",
    "        y_val_encoded.append(0)\n",
    "print(X_val.shape[0])"
   ]
  },
  {
   "cell_type": "code",
   "execution_count": 34,
   "id": "81fe82ea",
   "metadata": {},
   "outputs": [
    {
     "name": "stdout",
     "output_type": "stream",
     "text": [
      "[1 0 1 1 1 1 1 1 1 1 0 0 1 0 0 0 0 1 0 0 1 1 1 1 1 1 0 1 1 1 0 0 1 0 1 1]\n"
     ]
    }
   ],
   "source": [
    "result = training_model.predict(X_val)\n",
    "print(result)"
   ]
  },
  {
   "cell_type": "code",
   "execution_count": 35,
   "id": "d6384168",
   "metadata": {},
   "outputs": [
    {
     "name": "stdout",
     "output_type": "stream",
     "text": [
      "0.6111111111111112\n"
     ]
    }
   ],
   "source": [
    "sum = 0\n",
    "for i in range(X_val.shape[0]):\n",
    "    if result[i] == y_val_encoded[i]:\n",
    "        sum += 1\n",
    "accuracy = sum/X_val.shape[0]\n",
    "print(accuracy)"
   ]
  },
  {
   "cell_type": "code",
   "execution_count": 39,
   "id": "2562fe7a",
   "metadata": {},
   "outputs": [
    {
     "name": "stderr",
     "output_type": "stream",
     "text": [
      "/Users/yujunlu/opt/anaconda3/lib/python3.9/site-packages/sklearn/svm/_base.py:284: ConvergenceWarning: Solver terminated early (max_iter=1).  Consider pre-processing your data with StandardScaler or MinMaxScaler.\n",
      "  warnings.warn(\n",
      "/Users/yujunlu/opt/anaconda3/lib/python3.9/site-packages/sklearn/svm/_base.py:284: ConvergenceWarning: Solver terminated early (max_iter=1).  Consider pre-processing your data with StandardScaler or MinMaxScaler.\n",
      "  warnings.warn(\n",
      "/Users/yujunlu/opt/anaconda3/lib/python3.9/site-packages/sklearn/svm/_base.py:284: ConvergenceWarning: Solver terminated early (max_iter=1).  Consider pre-processing your data with StandardScaler or MinMaxScaler.\n",
      "  warnings.warn(\n",
      "/Users/yujunlu/opt/anaconda3/lib/python3.9/site-packages/sklearn/svm/_base.py:284: ConvergenceWarning: Solver terminated early (max_iter=10).  Consider pre-processing your data with StandardScaler or MinMaxScaler.\n",
      "  warnings.warn(\n",
      "/Users/yujunlu/opt/anaconda3/lib/python3.9/site-packages/sklearn/svm/_base.py:284: ConvergenceWarning: Solver terminated early (max_iter=10).  Consider pre-processing your data with StandardScaler or MinMaxScaler.\n",
      "  warnings.warn(\n",
      "/Users/yujunlu/opt/anaconda3/lib/python3.9/site-packages/sklearn/svm/_base.py:284: ConvergenceWarning: Solver terminated early (max_iter=10).  Consider pre-processing your data with StandardScaler or MinMaxScaler.\n",
      "  warnings.warn(\n",
      "/Users/yujunlu/opt/anaconda3/lib/python3.9/site-packages/sklearn/svm/_base.py:284: ConvergenceWarning: Solver terminated early (max_iter=50).  Consider pre-processing your data with StandardScaler or MinMaxScaler.\n",
      "  warnings.warn(\n",
      "/Users/yujunlu/opt/anaconda3/lib/python3.9/site-packages/sklearn/svm/_base.py:284: ConvergenceWarning: Solver terminated early (max_iter=50).  Consider pre-processing your data with StandardScaler or MinMaxScaler.\n",
      "  warnings.warn(\n",
      "/Users/yujunlu/opt/anaconda3/lib/python3.9/site-packages/sklearn/svm/_base.py:284: ConvergenceWarning: Solver terminated early (max_iter=70).  Consider pre-processing your data with StandardScaler or MinMaxScaler.\n",
      "  warnings.warn(\n",
      "/Users/yujunlu/opt/anaconda3/lib/python3.9/site-packages/sklearn/svm/_base.py:284: ConvergenceWarning: Solver terminated early (max_iter=70).  Consider pre-processing your data with StandardScaler or MinMaxScaler.\n",
      "  warnings.warn(\n",
      "/Users/yujunlu/opt/anaconda3/lib/python3.9/site-packages/sklearn/svm/_base.py:284: ConvergenceWarning: Solver terminated early (max_iter=100).  Consider pre-processing your data with StandardScaler or MinMaxScaler.\n",
      "  warnings.warn(\n",
      "/Users/yujunlu/opt/anaconda3/lib/python3.9/site-packages/sklearn/svm/_base.py:284: ConvergenceWarning: Solver terminated early (max_iter=200).  Consider pre-processing your data with StandardScaler or MinMaxScaler.\n",
      "  warnings.warn(\n"
     ]
    },
    {
     "data": {
      "image/png": "[encoded data removed]",
      "text/plain": [
       "<Figure size 640x480 with 1 Axes>"
      ]
     },
     "metadata": {},
     "output_type": "display_data"
    }
   ],
   "source": [
    "plot_x = []\n",
    "iteration_array = [1,10, 50, 70, 100, 200, 300, 400, 500]\n",
    "start_c = 0.001\n",
    "start_iter = 1\n",
    "for i in range(5):\n",
    "    start_c *= 10\n",
    "    plot_x.append(start_c)\n",
    "plot_y = []\n",
    "plot_val_y = []\n",
    "\n",
    "plot_y_2 = []\n",
    "plot_val_y_2 = []\n",
    "\n",
    "plot_y_3 = []\n",
    "plot_val_y_3 = []\n",
    "\n",
    "plt.title(\"Accuracy vs. iteration number\") \n",
    "plt.ylabel(\"Accuracy\") \n",
    "plt.xlabel(\"iteration number\") \n",
    "\n",
    "for iteration in iteration_array:\n",
    "        training_model1 = SVC(C = 0.01, max_iter=iteration)\n",
    "        training_model2 = SVC(C = 1, max_iter=iteration)\n",
    "        training_model3 = SVC(C = 10, max_iter=iteration)\n",
    "        training_model1.fit(X, y_encoded)\n",
    "        training_model2.fit(X, y_encoded)\n",
    "        training_model3.fit(X, y_encoded)\n",
    "        \n",
    "        \n",
    "        score1 = training_model1.score(X,y_encoded)\n",
    "        plot_y.append(score1)\n",
    "        score1 = training_model1.score(X_val,y_val_encoded)\n",
    "        plot_val_y.append(score1)\n",
    "        \n",
    "        score2 = training_model2.score(X,y_encoded)\n",
    "        plot_y_2.append(score2)\n",
    "        score2 = training_model2.score(X_val,y_val_encoded)\n",
    "        plot_val_y_2.append(score2)\n",
    "        \n",
    "        score3 = training_model3.score(X,y_encoded)\n",
    "        plot_y_3.append(score3)\n",
    "        score3 = training_model3.score(X_val,y_val_encoded)\n",
    "        plot_val_y_3.append(score3)\n",
    "plt.grid()\n",
    "plt.plot(iteration_array, plot_val_y,'o-', label = 'C = 0.01')\n",
    "plt.plot(iteration_array, plot_val_y_2, 'o-', label = 'C = 1')\n",
    "plt.plot(iteration_array, plot_val_y_3, 'o-', label = 'C = 10')\n",
    "plt.plot(iteration_array, plot_y, 'o-', label = 'train set, C = 0.01')\n",
    "plt.legend()\n",
    "\n",
    "plt.show()"
   ]
  },
  {
   "cell_type": "code",
   "execution_count": null,
   "id": "8c8604fa",
   "metadata": {},
   "outputs": [],
   "source": []
  }
 ],
 "metadata": {
  "kernelspec": {
   "display_name": "Python 3 (ipykernel)",
   "language": "python",
   "name": "python3"
  },
  "language_info": {
   "codemirror_mode": {
    "name": "ipython",
    "version": 3
   },
   "file_extension": ".py",
   "mimetype": "text/x-python",
   "name": "python",
   "nbconvert_exporter": "python",
   "pygments_lexer": "ipython3",
   "version": "3.9.13"
  }
 },
 "nbformat": 4,
 "nbformat_minor": 5
}
